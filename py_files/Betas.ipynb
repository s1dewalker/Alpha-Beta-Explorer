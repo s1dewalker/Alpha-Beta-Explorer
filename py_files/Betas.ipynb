{
 "cells": [
  {
   "cell_type": "markdown",
   "id": "1ef77485-70ec-4f92-81b0-182a2de1bf08",
   "metadata": {},
   "source": [
    "# BETAS\n",
    "Trying to find Treasury beta to get insights on the driving factor"
   ]
  },
  {
   "cell_type": "markdown",
   "id": "a1548a8e-dd79-4130-b297-c805340dc75d",
   "metadata": {},
   "source": [
    "### Getting and preparing data"
   ]
  },
  {
   "cell_type": "code",
   "execution_count": 3,
   "id": "a723a179-f87e-4c6c-99d1-02e113b41009",
   "metadata": {},
   "outputs": [],
   "source": [
    "import pandas as pd"
   ]
  },
  {
   "cell_type": "code",
   "execution_count": 4,
   "id": "a8b4705e-5473-4d95-acae-718f2886d931",
   "metadata": {},
   "outputs": [
    {
     "name": "stdout",
     "output_type": "stream",
     "text": [
      "Requirement already satisfied: yfinance in d:\\users\\sujay\\lib\\site-packages (0.2.48)Note: you may need to restart the kernel to use updated packages.\n",
      "\n",
      "Requirement already satisfied: pandas>=1.3.0 in d:\\users\\sujay\\lib\\site-packages (from yfinance) (2.1.4)\n",
      "Requirement already satisfied: numpy>=1.16.5 in d:\\users\\sujay\\lib\\site-packages (from yfinance) (1.26.4)\n",
      "Requirement already satisfied: requests>=2.31 in d:\\users\\sujay\\lib\\site-packages (from yfinance) (2.31.0)\n",
      "Requirement already satisfied: multitasking>=0.0.7 in d:\\users\\sujay\\lib\\site-packages (from yfinance) (0.0.11)\n",
      "Requirement already satisfied: lxml>=4.9.1 in d:\\users\\sujay\\lib\\site-packages (from yfinance) (4.9.3)\n",
      "Requirement already satisfied: platformdirs>=2.0.0 in d:\\users\\sujay\\lib\\site-packages (from yfinance) (3.10.0)\n",
      "Requirement already satisfied: pytz>=2022.5 in d:\\users\\sujay\\lib\\site-packages (from yfinance) (2023.3.post1)\n",
      "Requirement already satisfied: frozendict>=2.3.4 in d:\\users\\sujay\\lib\\site-packages (from yfinance) (2.4.2)\n",
      "Requirement already satisfied: peewee>=3.16.2 in d:\\users\\sujay\\lib\\site-packages (from yfinance) (3.17.7)\n",
      "Requirement already satisfied: beautifulsoup4>=4.11.1 in d:\\users\\sujay\\lib\\site-packages (from yfinance) (4.12.2)\n",
      "Requirement already satisfied: html5lib>=1.1 in d:\\users\\sujay\\lib\\site-packages (from yfinance) (1.1)\n",
      "Requirement already satisfied: soupsieve>1.2 in d:\\users\\sujay\\lib\\site-packages (from beautifulsoup4>=4.11.1->yfinance) (2.5)\n",
      "Requirement already satisfied: six>=1.9 in d:\\users\\sujay\\lib\\site-packages (from html5lib>=1.1->yfinance) (1.16.0)\n",
      "Requirement already satisfied: webencodings in d:\\users\\sujay\\lib\\site-packages (from html5lib>=1.1->yfinance) (0.5.1)\n",
      "Requirement already satisfied: python-dateutil>=2.8.2 in d:\\users\\sujay\\lib\\site-packages (from pandas>=1.3.0->yfinance) (2.8.2)\n",
      "Requirement already satisfied: tzdata>=2022.1 in d:\\users\\sujay\\lib\\site-packages (from pandas>=1.3.0->yfinance) (2023.3)\n",
      "Requirement already satisfied: charset-normalizer<4,>=2 in d:\\users\\sujay\\lib\\site-packages (from requests>=2.31->yfinance) (2.0.4)\n",
      "Requirement already satisfied: idna<4,>=2.5 in d:\\users\\sujay\\lib\\site-packages (from requests>=2.31->yfinance) (3.4)\n",
      "Requirement already satisfied: urllib3<3,>=1.21.1 in d:\\users\\sujay\\lib\\site-packages (from requests>=2.31->yfinance) (2.0.7)\n",
      "Requirement already satisfied: certifi>=2017.4.17 in d:\\users\\sujay\\lib\\site-packages (from requests>=2.31->yfinance) (2024.8.30)\n"
     ]
    }
   ],
   "source": [
    "pip install yfinance"
   ]
  },
  {
   "cell_type": "code",
   "execution_count": 5,
   "id": "88964e63-8795-4b21-b122-7a94d9b446d0",
   "metadata": {},
   "outputs": [],
   "source": [
    "import yfinance as yf"
   ]
  },
  {
   "cell_type": "markdown",
   "id": "2839fdd1-b255-495b-b058-bd54840d52c4",
   "metadata": {},
   "source": [
    "**Enter Date Range:**"
   ]
  },
  {
   "cell_type": "code",
   "execution_count": 7,
   "id": "38977a8b-b66d-411c-a8d9-5d563858b2d0",
   "metadata": {},
   "outputs": [
    {
     "name": "stdout",
     "output_type": "stream",
     "text": [
      "35\n"
     ]
    }
   ],
   "source": [
    "# Define the start and end dates (yyyy-mm-dd)\n",
    "start_date = pd.to_datetime(\"2022-01-01\")\n",
    "end_date = pd.to_datetime(\"2024-12-01\")\n",
    "\n",
    "# Calculate the difference in months\n",
    "months_diff = (end_date.year - start_date.year) * 12 + end_date.month - start_date.month\n",
    "\n",
    "print(months_diff)"
   ]
  },
  {
   "cell_type": "markdown",
   "id": "03c56f05-258a-4757-8150-b4b6e33b29f8",
   "metadata": {},
   "source": [
    "**Enter Stock tickers:**"
   ]
  },
  {
   "cell_type": "code",
   "execution_count": 9,
   "id": "6e50433d-ebee-45c3-a4d2-baebe016c054",
   "metadata": {},
   "outputs": [
    {
     "name": "stderr",
     "output_type": "stream",
     "text": [
      "[*********************100%***********************]  10 of 10 completed"
     ]
    },
    {
     "name": "stdout",
     "output_type": "stream",
     "text": [
      "Ticker                            AMD        AMZN          C         CVX  \\\n",
      "Date                                                                       \n",
      "2022-01-03 00:00:00+00:00  150.240005  170.404495  63.099998  119.260002   \n",
      "2022-01-04 00:00:00+00:00  144.419998  167.522003  63.590000  121.430000   \n",
      "2022-01-05 00:00:00+00:00  136.149994  164.356995  62.849998  122.220001   \n",
      "2022-01-06 00:00:00+00:00  136.229996  163.253998  64.910004  123.260002   \n",
      "2022-01-07 00:00:00+00:00  132.000000  162.554001  65.779999  125.029999   \n",
      "\n",
      "Ticker                            DIS        GOOG         JPM        MSFT  \\\n",
      "Date                                                                        \n",
      "2022-01-03 00:00:00+00:00  156.759995  145.074493  161.699997  334.750000   \n",
      "2022-01-04 00:00:00+00:00  155.729996  144.416504  167.830002  329.010010   \n",
      "2022-01-05 00:00:00+00:00  155.190002  137.653503  163.779999  316.380005   \n",
      "2022-01-06 00:00:00+00:00  156.899994  137.550995  165.520004  313.880005   \n",
      "2022-01-07 00:00:00+00:00  157.830002  137.004501  167.160004  314.040009   \n",
      "\n",
      "Ticker                           TSLA       UBER  \n",
      "Date                                              \n",
      "2022-01-03 00:00:00+00:00  399.926666  43.950001  \n",
      "2022-01-04 00:00:00+00:00  383.196655  44.419998  \n",
      "2022-01-05 00:00:00+00:00  362.706665  43.240002  \n",
      "2022-01-06 00:00:00+00:00  354.899994  42.029999  \n",
      "2022-01-07 00:00:00+00:00  342.320007  41.509998  \n"
     ]
    },
    {
     "name": "stderr",
     "output_type": "stream",
     "text": [
      "\n"
     ]
    }
   ],
   "source": [
    "# List of tickers for NSE stocks (append '.NS' to each NSE ticker)\n",
    "tickers = [\"JPM\", \"CVX\", \"C\", \"AMD\", \"TSLA\", \"AMZN\", \"UBER\", \"GOOG\", \"MSFT\", \"DIS\"]  # Add more tickers as needed\n",
    "\n",
    "# Download historical data for 1 or 2 years\n",
    "data = yf.download(tickers, start=start_date, end=end_date)\n",
    "\n",
    "# Extract only the closing prices\n",
    "closing_prices = data['Close']\n",
    "\n",
    "# Display the combined DataFrame\n",
    "print(closing_prices.head())\n",
    "\n",
    "# Optionally, save to a CSV file if you want\n",
    "closing_prices.to_csv(\"nse_closing_prices.csv\")"
   ]
  },
  {
   "cell_type": "code",
   "execution_count": 10,
   "id": "630ddd38-d7f6-4fcc-b651-d94f9b17d089",
   "metadata": {},
   "outputs": [
    {
     "data": {
      "text/html": [
       "<div>\n",
       "<style scoped>\n",
       "    .dataframe tbody tr th:only-of-type {\n",
       "        vertical-align: middle;\n",
       "    }\n",
       "\n",
       "    .dataframe tbody tr th {\n",
       "        vertical-align: top;\n",
       "    }\n",
       "\n",
       "    .dataframe thead th {\n",
       "        text-align: right;\n",
       "    }\n",
       "</style>\n",
       "<table border=\"1\" class=\"dataframe\">\n",
       "  <thead>\n",
       "    <tr style=\"text-align: right;\">\n",
       "      <th></th>\n",
       "      <th>AMD</th>\n",
       "      <th>AMZN</th>\n",
       "      <th>C</th>\n",
       "      <th>CVX</th>\n",
       "      <th>DIS</th>\n",
       "      <th>GOOG</th>\n",
       "      <th>JPM</th>\n",
       "      <th>MSFT</th>\n",
       "      <th>TSLA</th>\n",
       "      <th>UBER</th>\n",
       "    </tr>\n",
       "    <tr>\n",
       "      <th>Date</th>\n",
       "      <th></th>\n",
       "      <th></th>\n",
       "      <th></th>\n",
       "      <th></th>\n",
       "      <th></th>\n",
       "      <th></th>\n",
       "      <th></th>\n",
       "      <th></th>\n",
       "      <th></th>\n",
       "      <th></th>\n",
       "    </tr>\n",
       "  </thead>\n",
       "  <tbody>\n",
       "    <tr>\n",
       "      <th>2022-01-03 00:00:00+00:00</th>\n",
       "      <td>150.240005</td>\n",
       "      <td>170.404495</td>\n",
       "      <td>63.099998</td>\n",
       "      <td>119.260002</td>\n",
       "      <td>156.759995</td>\n",
       "      <td>145.074493</td>\n",
       "      <td>161.699997</td>\n",
       "      <td>334.750000</td>\n",
       "      <td>399.926666</td>\n",
       "      <td>43.950001</td>\n",
       "    </tr>\n",
       "    <tr>\n",
       "      <th>2022-01-04 00:00:00+00:00</th>\n",
       "      <td>144.419998</td>\n",
       "      <td>167.522003</td>\n",
       "      <td>63.590000</td>\n",
       "      <td>121.430000</td>\n",
       "      <td>155.729996</td>\n",
       "      <td>144.416504</td>\n",
       "      <td>167.830002</td>\n",
       "      <td>329.010010</td>\n",
       "      <td>383.196655</td>\n",
       "      <td>44.419998</td>\n",
       "    </tr>\n",
       "    <tr>\n",
       "      <th>2022-01-05 00:00:00+00:00</th>\n",
       "      <td>136.149994</td>\n",
       "      <td>164.356995</td>\n",
       "      <td>62.849998</td>\n",
       "      <td>122.220001</td>\n",
       "      <td>155.190002</td>\n",
       "      <td>137.653503</td>\n",
       "      <td>163.779999</td>\n",
       "      <td>316.380005</td>\n",
       "      <td>362.706665</td>\n",
       "      <td>43.240002</td>\n",
       "    </tr>\n",
       "    <tr>\n",
       "      <th>2022-01-06 00:00:00+00:00</th>\n",
       "      <td>136.229996</td>\n",
       "      <td>163.253998</td>\n",
       "      <td>64.910004</td>\n",
       "      <td>123.260002</td>\n",
       "      <td>156.899994</td>\n",
       "      <td>137.550995</td>\n",
       "      <td>165.520004</td>\n",
       "      <td>313.880005</td>\n",
       "      <td>354.899994</td>\n",
       "      <td>42.029999</td>\n",
       "    </tr>\n",
       "    <tr>\n",
       "      <th>2022-01-07 00:00:00+00:00</th>\n",
       "      <td>132.000000</td>\n",
       "      <td>162.554001</td>\n",
       "      <td>65.779999</td>\n",
       "      <td>125.029999</td>\n",
       "      <td>157.830002</td>\n",
       "      <td>137.004501</td>\n",
       "      <td>167.160004</td>\n",
       "      <td>314.040009</td>\n",
       "      <td>342.320007</td>\n",
       "      <td>41.509998</td>\n",
       "    </tr>\n",
       "  </tbody>\n",
       "</table>\n",
       "</div>"
      ],
      "text/plain": [
       "                                  AMD        AMZN          C         CVX  \\\n",
       "Date                                                                       \n",
       "2022-01-03 00:00:00+00:00  150.240005  170.404495  63.099998  119.260002   \n",
       "2022-01-04 00:00:00+00:00  144.419998  167.522003  63.590000  121.430000   \n",
       "2022-01-05 00:00:00+00:00  136.149994  164.356995  62.849998  122.220001   \n",
       "2022-01-06 00:00:00+00:00  136.229996  163.253998  64.910004  123.260002   \n",
       "2022-01-07 00:00:00+00:00  132.000000  162.554001  65.779999  125.029999   \n",
       "\n",
       "                                  DIS        GOOG         JPM        MSFT  \\\n",
       "Date                                                                        \n",
       "2022-01-03 00:00:00+00:00  156.759995  145.074493  161.699997  334.750000   \n",
       "2022-01-04 00:00:00+00:00  155.729996  144.416504  167.830002  329.010010   \n",
       "2022-01-05 00:00:00+00:00  155.190002  137.653503  163.779999  316.380005   \n",
       "2022-01-06 00:00:00+00:00  156.899994  137.550995  165.520004  313.880005   \n",
       "2022-01-07 00:00:00+00:00  157.830002  137.004501  167.160004  314.040009   \n",
       "\n",
       "                                 TSLA       UBER  \n",
       "Date                                              \n",
       "2022-01-03 00:00:00+00:00  399.926666  43.950001  \n",
       "2022-01-04 00:00:00+00:00  383.196655  44.419998  \n",
       "2022-01-05 00:00:00+00:00  362.706665  43.240002  \n",
       "2022-01-06 00:00:00+00:00  354.899994  42.029999  \n",
       "2022-01-07 00:00:00+00:00  342.320007  41.509998  "
      ]
     },
     "execution_count": 10,
     "metadata": {},
     "output_type": "execute_result"
    }
   ],
   "source": [
    "df = pd.read_csv(r\"nse_closing_prices.csv\")\n",
    "df.set_index('Date', inplace =True)\n",
    "df.head()"
   ]
  },
  {
   "cell_type": "code",
   "execution_count": 11,
   "id": "b94599e3-62b4-4cc2-a1f6-9456ccd3f7f1",
   "metadata": {},
   "outputs": [
    {
     "data": {
      "text/plain": [
       "(732, 10)"
      ]
     },
     "execution_count": 11,
     "metadata": {},
     "output_type": "execute_result"
    }
   ],
   "source": [
    "df.shape"
   ]
  },
  {
   "cell_type": "markdown",
   "id": "2bc46239-7e56-4957-8f11-96bf0c82aa96",
   "metadata": {},
   "source": [
    "### Calculating daily returns | 'returns' is the DataFrame w/ stock returns"
   ]
  },
  {
   "cell_type": "code",
   "execution_count": 13,
   "id": "2494250e-92c5-44b0-ba87-456c47052807",
   "metadata": {},
   "outputs": [],
   "source": [
    "import numpy as np"
   ]
  },
  {
   "cell_type": "code",
   "execution_count": 14,
   "id": "a198c4de-0774-4490-a61c-78b5015dd5b8",
   "metadata": {},
   "outputs": [
    {
     "data": {
      "text/html": [
       "<div>\n",
       "<style scoped>\n",
       "    .dataframe tbody tr th:only-of-type {\n",
       "        vertical-align: middle;\n",
       "    }\n",
       "\n",
       "    .dataframe tbody tr th {\n",
       "        vertical-align: top;\n",
       "    }\n",
       "\n",
       "    .dataframe thead th {\n",
       "        text-align: right;\n",
       "    }\n",
       "</style>\n",
       "<table border=\"1\" class=\"dataframe\">\n",
       "  <thead>\n",
       "    <tr style=\"text-align: right;\">\n",
       "      <th></th>\n",
       "      <th>AMD</th>\n",
       "      <th>AMZN</th>\n",
       "      <th>C</th>\n",
       "      <th>CVX</th>\n",
       "      <th>DIS</th>\n",
       "      <th>GOOG</th>\n",
       "      <th>JPM</th>\n",
       "      <th>MSFT</th>\n",
       "      <th>TSLA</th>\n",
       "      <th>UBER</th>\n",
       "    </tr>\n",
       "    <tr>\n",
       "      <th>Date</th>\n",
       "      <th></th>\n",
       "      <th></th>\n",
       "      <th></th>\n",
       "      <th></th>\n",
       "      <th></th>\n",
       "      <th></th>\n",
       "      <th></th>\n",
       "      <th></th>\n",
       "      <th></th>\n",
       "      <th></th>\n",
       "    </tr>\n",
       "  </thead>\n",
       "  <tbody>\n",
       "    <tr>\n",
       "      <th>2022-01-04 00:00:00+00:00</th>\n",
       "      <td>-0.038738</td>\n",
       "      <td>-0.016916</td>\n",
       "      <td>0.007765</td>\n",
       "      <td>0.018196</td>\n",
       "      <td>-0.006571</td>\n",
       "      <td>-0.004536</td>\n",
       "      <td>0.037910</td>\n",
       "      <td>-0.017147</td>\n",
       "      <td>-0.041833</td>\n",
       "      <td>0.010694</td>\n",
       "    </tr>\n",
       "    <tr>\n",
       "      <th>2022-01-05 00:00:00+00:00</th>\n",
       "      <td>-0.057264</td>\n",
       "      <td>-0.018893</td>\n",
       "      <td>-0.011637</td>\n",
       "      <td>0.006506</td>\n",
       "      <td>-0.003467</td>\n",
       "      <td>-0.046830</td>\n",
       "      <td>-0.024132</td>\n",
       "      <td>-0.038388</td>\n",
       "      <td>-0.053471</td>\n",
       "      <td>-0.026565</td>\n",
       "    </tr>\n",
       "    <tr>\n",
       "      <th>2022-01-06 00:00:00+00:00</th>\n",
       "      <td>0.000588</td>\n",
       "      <td>-0.006711</td>\n",
       "      <td>0.032777</td>\n",
       "      <td>0.008509</td>\n",
       "      <td>0.011019</td>\n",
       "      <td>-0.000745</td>\n",
       "      <td>0.010624</td>\n",
       "      <td>-0.007902</td>\n",
       "      <td>-0.021523</td>\n",
       "      <td>-0.027983</td>\n",
       "    </tr>\n",
       "    <tr>\n",
       "      <th>2022-01-07 00:00:00+00:00</th>\n",
       "      <td>-0.031050</td>\n",
       "      <td>-0.004288</td>\n",
       "      <td>0.013403</td>\n",
       "      <td>0.014360</td>\n",
       "      <td>0.005927</td>\n",
       "      <td>-0.003973</td>\n",
       "      <td>0.009908</td>\n",
       "      <td>0.000510</td>\n",
       "      <td>-0.035447</td>\n",
       "      <td>-0.012372</td>\n",
       "    </tr>\n",
       "    <tr>\n",
       "      <th>2022-01-10 00:00:00+00:00</th>\n",
       "      <td>0.000000</td>\n",
       "      <td>-0.006570</td>\n",
       "      <td>0.003801</td>\n",
       "      <td>0.000640</td>\n",
       "      <td>-0.007793</td>\n",
       "      <td>0.011456</td>\n",
       "      <td>0.000957</td>\n",
       "      <td>0.000732</td>\n",
       "      <td>0.030342</td>\n",
       "      <td>0.026259</td>\n",
       "    </tr>\n",
       "  </tbody>\n",
       "</table>\n",
       "</div>"
      ],
      "text/plain": [
       "                                AMD      AMZN         C       CVX       DIS  \\\n",
       "Date                                                                          \n",
       "2022-01-04 00:00:00+00:00 -0.038738 -0.016916  0.007765  0.018196 -0.006571   \n",
       "2022-01-05 00:00:00+00:00 -0.057264 -0.018893 -0.011637  0.006506 -0.003467   \n",
       "2022-01-06 00:00:00+00:00  0.000588 -0.006711  0.032777  0.008509  0.011019   \n",
       "2022-01-07 00:00:00+00:00 -0.031050 -0.004288  0.013403  0.014360  0.005927   \n",
       "2022-01-10 00:00:00+00:00  0.000000 -0.006570  0.003801  0.000640 -0.007793   \n",
       "\n",
       "                               GOOG       JPM      MSFT      TSLA      UBER  \n",
       "Date                                                                         \n",
       "2022-01-04 00:00:00+00:00 -0.004536  0.037910 -0.017147 -0.041833  0.010694  \n",
       "2022-01-05 00:00:00+00:00 -0.046830 -0.024132 -0.038388 -0.053471 -0.026565  \n",
       "2022-01-06 00:00:00+00:00 -0.000745  0.010624 -0.007902 -0.021523 -0.027983  \n",
       "2022-01-07 00:00:00+00:00 -0.003973  0.009908  0.000510 -0.035447 -0.012372  \n",
       "2022-01-10 00:00:00+00:00  0.011456  0.000957  0.000732  0.030342  0.026259  "
      ]
     },
     "execution_count": 14,
     "metadata": {},
     "output_type": "execute_result"
    }
   ],
   "source": [
    "returns = df.pct_change()\n",
    "returns.dropna(inplace = True)\n",
    "returns.head()"
   ]
  },
  {
   "cell_type": "markdown",
   "id": "46bdd531-4599-4a92-9be2-50adf730e983",
   "metadata": {},
   "source": [
    "#### Constructing a Portfolio of equal weights in terms of returns | stored in returns['Portfolio']\n",
    "storing Portfolio returns in \"Portfolio\" column"
   ]
  },
  {
   "cell_type": "code",
   "execution_count": 16,
   "id": "1821ca34-16c5-4160-9e8e-b5a4c33dfaf8",
   "metadata": {},
   "outputs": [
    {
     "data": {
      "text/plain": [
       "array([0.1, 0.1, 0.1, 0.1, 0.1, 0.1, 0.1, 0.1, 0.1, 0.1])"
      ]
     },
     "execution_count": 16,
     "metadata": {},
     "output_type": "execute_result"
    }
   ],
   "source": [
    "#weights = [0.1,0.1,0.1,0.1,0.1,0.1,0.1,0.1,0.1,0.1]\n",
    "# Count the total number of stocks\n",
    "num_stocks = len(df.columns)\n",
    "num_stocks\n",
    "\n",
    "\n",
    "# Create an array of equal weights\n",
    "equal_weights = np.repeat(1/num_stocks, num_stocks)\n",
    "equal_weights\n",
    "\n",
    "weights = equal_weights\n",
    "weights"
   ]
  },
  {
   "cell_type": "code",
   "execution_count": 17,
   "id": "1e5e18a3-6d9c-4e4d-85cb-868f643d218e",
   "metadata": {},
   "outputs": [
    {
     "data": {
      "text/html": [
       "<div>\n",
       "<style scoped>\n",
       "    .dataframe tbody tr th:only-of-type {\n",
       "        vertical-align: middle;\n",
       "    }\n",
       "\n",
       "    .dataframe tbody tr th {\n",
       "        vertical-align: top;\n",
       "    }\n",
       "\n",
       "    .dataframe thead th {\n",
       "        text-align: right;\n",
       "    }\n",
       "</style>\n",
       "<table border=\"1\" class=\"dataframe\">\n",
       "  <thead>\n",
       "    <tr style=\"text-align: right;\">\n",
       "      <th></th>\n",
       "      <th>AMD</th>\n",
       "      <th>AMZN</th>\n",
       "      <th>C</th>\n",
       "      <th>CVX</th>\n",
       "      <th>DIS</th>\n",
       "      <th>GOOG</th>\n",
       "      <th>JPM</th>\n",
       "      <th>MSFT</th>\n",
       "      <th>TSLA</th>\n",
       "      <th>UBER</th>\n",
       "      <th>Portfolio</th>\n",
       "    </tr>\n",
       "    <tr>\n",
       "      <th>Date</th>\n",
       "      <th></th>\n",
       "      <th></th>\n",
       "      <th></th>\n",
       "      <th></th>\n",
       "      <th></th>\n",
       "      <th></th>\n",
       "      <th></th>\n",
       "      <th></th>\n",
       "      <th></th>\n",
       "      <th></th>\n",
       "      <th></th>\n",
       "    </tr>\n",
       "  </thead>\n",
       "  <tbody>\n",
       "    <tr>\n",
       "      <th>2022-01-04 00:00:00+00:00</th>\n",
       "      <td>-0.038738</td>\n",
       "      <td>-0.016916</td>\n",
       "      <td>0.007765</td>\n",
       "      <td>0.018196</td>\n",
       "      <td>-0.006571</td>\n",
       "      <td>-0.004536</td>\n",
       "      <td>0.037910</td>\n",
       "      <td>-0.017147</td>\n",
       "      <td>-0.041833</td>\n",
       "      <td>0.010694</td>\n",
       "      <td>-0.005117</td>\n",
       "    </tr>\n",
       "    <tr>\n",
       "      <th>2022-01-05 00:00:00+00:00</th>\n",
       "      <td>-0.057264</td>\n",
       "      <td>-0.018893</td>\n",
       "      <td>-0.011637</td>\n",
       "      <td>0.006506</td>\n",
       "      <td>-0.003467</td>\n",
       "      <td>-0.046830</td>\n",
       "      <td>-0.024132</td>\n",
       "      <td>-0.038388</td>\n",
       "      <td>-0.053471</td>\n",
       "      <td>-0.026565</td>\n",
       "      <td>-0.027414</td>\n",
       "    </tr>\n",
       "    <tr>\n",
       "      <th>2022-01-06 00:00:00+00:00</th>\n",
       "      <td>0.000588</td>\n",
       "      <td>-0.006711</td>\n",
       "      <td>0.032777</td>\n",
       "      <td>0.008509</td>\n",
       "      <td>0.011019</td>\n",
       "      <td>-0.000745</td>\n",
       "      <td>0.010624</td>\n",
       "      <td>-0.007902</td>\n",
       "      <td>-0.021523</td>\n",
       "      <td>-0.027983</td>\n",
       "      <td>-0.000135</td>\n",
       "    </tr>\n",
       "    <tr>\n",
       "      <th>2022-01-07 00:00:00+00:00</th>\n",
       "      <td>-0.031050</td>\n",
       "      <td>-0.004288</td>\n",
       "      <td>0.013403</td>\n",
       "      <td>0.014360</td>\n",
       "      <td>0.005927</td>\n",
       "      <td>-0.003973</td>\n",
       "      <td>0.009908</td>\n",
       "      <td>0.000510</td>\n",
       "      <td>-0.035447</td>\n",
       "      <td>-0.012372</td>\n",
       "      <td>-0.004302</td>\n",
       "    </tr>\n",
       "    <tr>\n",
       "      <th>2022-01-10 00:00:00+00:00</th>\n",
       "      <td>0.000000</td>\n",
       "      <td>-0.006570</td>\n",
       "      <td>0.003801</td>\n",
       "      <td>0.000640</td>\n",
       "      <td>-0.007793</td>\n",
       "      <td>0.011456</td>\n",
       "      <td>0.000957</td>\n",
       "      <td>0.000732</td>\n",
       "      <td>0.030342</td>\n",
       "      <td>0.026259</td>\n",
       "      <td>0.005982</td>\n",
       "    </tr>\n",
       "  </tbody>\n",
       "</table>\n",
       "</div>"
      ],
      "text/plain": [
       "                                AMD      AMZN         C       CVX       DIS  \\\n",
       "Date                                                                          \n",
       "2022-01-04 00:00:00+00:00 -0.038738 -0.016916  0.007765  0.018196 -0.006571   \n",
       "2022-01-05 00:00:00+00:00 -0.057264 -0.018893 -0.011637  0.006506 -0.003467   \n",
       "2022-01-06 00:00:00+00:00  0.000588 -0.006711  0.032777  0.008509  0.011019   \n",
       "2022-01-07 00:00:00+00:00 -0.031050 -0.004288  0.013403  0.014360  0.005927   \n",
       "2022-01-10 00:00:00+00:00  0.000000 -0.006570  0.003801  0.000640 -0.007793   \n",
       "\n",
       "                               GOOG       JPM      MSFT      TSLA      UBER  \\\n",
       "Date                                                                          \n",
       "2022-01-04 00:00:00+00:00 -0.004536  0.037910 -0.017147 -0.041833  0.010694   \n",
       "2022-01-05 00:00:00+00:00 -0.046830 -0.024132 -0.038388 -0.053471 -0.026565   \n",
       "2022-01-06 00:00:00+00:00 -0.000745  0.010624 -0.007902 -0.021523 -0.027983   \n",
       "2022-01-07 00:00:00+00:00 -0.003973  0.009908  0.000510 -0.035447 -0.012372   \n",
       "2022-01-10 00:00:00+00:00  0.011456  0.000957  0.000732  0.030342  0.026259   \n",
       "\n",
       "                           Portfolio  \n",
       "Date                                  \n",
       "2022-01-04 00:00:00+00:00  -0.005117  \n",
       "2022-01-05 00:00:00+00:00  -0.027414  \n",
       "2022-01-06 00:00:00+00:00  -0.000135  \n",
       "2022-01-07 00:00:00+00:00  -0.004302  \n",
       "2022-01-10 00:00:00+00:00   0.005982  "
      ]
     },
     "execution_count": 17,
     "metadata": {},
     "output_type": "execute_result"
    }
   ],
   "source": [
    "# Create portfolio returns column\n",
    "returns['Portfolio']= returns.dot(weights)\n",
    "returns.head()"
   ]
  },
  {
   "cell_type": "code",
   "execution_count": 18,
   "id": "9ed84de7-0019-4614-9e1c-48f386f2eab6",
   "metadata": {},
   "outputs": [
    {
     "data": {
      "text/html": [
       "<div>\n",
       "<style scoped>\n",
       "    .dataframe tbody tr th:only-of-type {\n",
       "        vertical-align: middle;\n",
       "    }\n",
       "\n",
       "    .dataframe tbody tr th {\n",
       "        vertical-align: top;\n",
       "    }\n",
       "\n",
       "    .dataframe thead th {\n",
       "        text-align: right;\n",
       "    }\n",
       "</style>\n",
       "<table border=\"1\" class=\"dataframe\">\n",
       "  <thead>\n",
       "    <tr style=\"text-align: right;\">\n",
       "      <th></th>\n",
       "      <th>count</th>\n",
       "      <th>mean</th>\n",
       "      <th>std</th>\n",
       "      <th>min</th>\n",
       "      <th>25%</th>\n",
       "      <th>50%</th>\n",
       "      <th>75%</th>\n",
       "      <th>max</th>\n",
       "    </tr>\n",
       "  </thead>\n",
       "  <tbody>\n",
       "    <tr>\n",
       "      <th>Portfolio</th>\n",
       "      <td>731.0</td>\n",
       "      <td>0.000496</td>\n",
       "      <td>0.015972</td>\n",
       "      <td>-0.055769</td>\n",
       "      <td>-0.007985</td>\n",
       "      <td>0.000816</td>\n",
       "      <td>0.009967</td>\n",
       "      <td>0.075509</td>\n",
       "    </tr>\n",
       "  </tbody>\n",
       "</table>\n",
       "</div>"
      ],
      "text/plain": [
       "           count      mean       std       min       25%       50%       75%  \\\n",
       "Portfolio  731.0  0.000496  0.015972 -0.055769 -0.007985  0.000816  0.009967   \n",
       "\n",
       "                max  \n",
       "Portfolio  0.075509  "
      ]
     },
     "execution_count": 18,
     "metadata": {},
     "output_type": "execute_result"
    }
   ],
   "source": [
    "returns['Portfolio'].describe().to_frame().T"
   ]
  },
  {
   "cell_type": "markdown",
   "id": "039ecdc7-bf98-4b17-9667-0daf1e661c0c",
   "metadata": {},
   "source": [
    "#### Calculating cummulative retruns"
   ]
  },
  {
   "cell_type": "code",
   "execution_count": 20,
   "id": "6941bd8d-cde3-4f19-ba1b-dfdd86d1428c",
   "metadata": {},
   "outputs": [],
   "source": [
    "# Calculate cumulative returns (growth factor)\n",
    "daily_cum_ret=(1+returns).cumprod()\n",
    "#daily_cum_ret.tail()"
   ]
  },
  {
   "cell_type": "code",
   "execution_count": 21,
   "id": "9a02e58c-fbe4-4b8a-9ed7-49f5267a16bc",
   "metadata": {},
   "outputs": [
    {
     "data": {
      "text/html": [
       "<div>\n",
       "<style scoped>\n",
       "    .dataframe tbody tr th:only-of-type {\n",
       "        vertical-align: middle;\n",
       "    }\n",
       "\n",
       "    .dataframe tbody tr th {\n",
       "        vertical-align: top;\n",
       "    }\n",
       "\n",
       "    .dataframe thead th {\n",
       "        text-align: right;\n",
       "    }\n",
       "</style>\n",
       "<table border=\"1\" class=\"dataframe\">\n",
       "  <thead>\n",
       "    <tr style=\"text-align: right;\">\n",
       "      <th></th>\n",
       "      <th>Portfolio</th>\n",
       "    </tr>\n",
       "    <tr>\n",
       "      <th>Date</th>\n",
       "      <th></th>\n",
       "    </tr>\n",
       "  </thead>\n",
       "  <tbody>\n",
       "    <tr>\n",
       "      <th>2024-11-22 00:00:00+00:00</th>\n",
       "      <td>1.295784</td>\n",
       "    </tr>\n",
       "    <tr>\n",
       "      <th>2024-11-25 00:00:00+00:00</th>\n",
       "      <td>1.303733</td>\n",
       "    </tr>\n",
       "    <tr>\n",
       "      <th>2024-11-26 00:00:00+00:00</th>\n",
       "      <td>1.304207</td>\n",
       "    </tr>\n",
       "    <tr>\n",
       "      <th>2024-11-27 00:00:00+00:00</th>\n",
       "      <td>1.300919</td>\n",
       "    </tr>\n",
       "    <tr>\n",
       "      <th>2024-11-29 00:00:00+00:00</th>\n",
       "      <td>1.309474</td>\n",
       "    </tr>\n",
       "  </tbody>\n",
       "</table>\n",
       "</div>"
      ],
      "text/plain": [
       "                           Portfolio\n",
       "Date                                \n",
       "2024-11-22 00:00:00+00:00   1.295784\n",
       "2024-11-25 00:00:00+00:00   1.303733\n",
       "2024-11-26 00:00:00+00:00   1.304207\n",
       "2024-11-27 00:00:00+00:00   1.300919\n",
       "2024-11-29 00:00:00+00:00   1.309474"
      ]
     },
     "execution_count": 21,
     "metadata": {},
     "output_type": "execute_result"
    }
   ],
   "source": [
    "pf_cum_ret = daily_cum_ret['Portfolio'].to_frame()\n",
    "pf_cum_ret.tail()"
   ]
  },
  {
   "cell_type": "markdown",
   "id": "c27da65d-cdfa-4bd9-b106-8a733fa94197",
   "metadata": {},
   "source": [
    "### Getting benchmark data"
   ]
  },
  {
   "cell_type": "code",
   "execution_count": 23,
   "id": "126575bb-a8ef-48b6-b98c-762288f6e0d1",
   "metadata": {},
   "outputs": [],
   "source": [
    "sp500_ticker = \"^GSPC\""
   ]
  },
  {
   "cell_type": "code",
   "execution_count": 24,
   "id": "ef73327c-0e17-4041-a8c6-3b3bf98b50b8",
   "metadata": {},
   "outputs": [
    {
     "name": "stderr",
     "output_type": "stream",
     "text": [
      "[*********************100%***********************]  1 of 1 completed\n"
     ]
    },
    {
     "data": {
      "text/html": [
       "<div>\n",
       "<style scoped>\n",
       "    .dataframe tbody tr th:only-of-type {\n",
       "        vertical-align: middle;\n",
       "    }\n",
       "\n",
       "    .dataframe tbody tr th {\n",
       "        vertical-align: top;\n",
       "    }\n",
       "\n",
       "    .dataframe thead th {\n",
       "        text-align: right;\n",
       "    }\n",
       "</style>\n",
       "<table border=\"1\" class=\"dataframe\">\n",
       "  <thead>\n",
       "    <tr style=\"text-align: right;\">\n",
       "      <th>Ticker</th>\n",
       "      <th>^GSPC</th>\n",
       "    </tr>\n",
       "    <tr>\n",
       "      <th>Date</th>\n",
       "      <th></th>\n",
       "    </tr>\n",
       "  </thead>\n",
       "  <tbody>\n",
       "    <tr>\n",
       "      <th>2024-11-22 00:00:00+00:00</th>\n",
       "      <td>5969.339844</td>\n",
       "    </tr>\n",
       "    <tr>\n",
       "      <th>2024-11-25 00:00:00+00:00</th>\n",
       "      <td>5987.370117</td>\n",
       "    </tr>\n",
       "    <tr>\n",
       "      <th>2024-11-26 00:00:00+00:00</th>\n",
       "      <td>6021.629883</td>\n",
       "    </tr>\n",
       "    <tr>\n",
       "      <th>2024-11-27 00:00:00+00:00</th>\n",
       "      <td>5998.740234</td>\n",
       "    </tr>\n",
       "    <tr>\n",
       "      <th>2024-11-29 00:00:00+00:00</th>\n",
       "      <td>6032.379883</td>\n",
       "    </tr>\n",
       "  </tbody>\n",
       "</table>\n",
       "</div>"
      ],
      "text/plain": [
       "Ticker                           ^GSPC\n",
       "Date                                  \n",
       "2024-11-22 00:00:00+00:00  5969.339844\n",
       "2024-11-25 00:00:00+00:00  5987.370117\n",
       "2024-11-26 00:00:00+00:00  6021.629883\n",
       "2024-11-27 00:00:00+00:00  5998.740234\n",
       "2024-11-29 00:00:00+00:00  6032.379883"
      ]
     },
     "execution_count": 24,
     "metadata": {},
     "output_type": "execute_result"
    }
   ],
   "source": [
    "sp500_data = yf.download(sp500_ticker, start=start_date, end=end_date)\n",
    "sp500_closing_prices = sp500_data['Close']\n",
    "\n",
    "# Display the closing prices for BENCHMARK\n",
    "sp500_closing_prices.tail()"
   ]
  },
  {
   "cell_type": "code",
   "execution_count": 25,
   "id": "bfa9bc0e-0eaa-4261-941e-5e8271066be7",
   "metadata": {},
   "outputs": [
    {
     "data": {
      "text/html": [
       "<div>\n",
       "<style scoped>\n",
       "    .dataframe tbody tr th:only-of-type {\n",
       "        vertical-align: middle;\n",
       "    }\n",
       "\n",
       "    .dataframe tbody tr th {\n",
       "        vertical-align: top;\n",
       "    }\n",
       "\n",
       "    .dataframe thead th {\n",
       "        text-align: right;\n",
       "    }\n",
       "</style>\n",
       "<table border=\"1\" class=\"dataframe\">\n",
       "  <thead>\n",
       "    <tr style=\"text-align: right;\">\n",
       "      <th>Ticker</th>\n",
       "      <th>^GSPC</th>\n",
       "    </tr>\n",
       "    <tr>\n",
       "      <th>Date</th>\n",
       "      <th></th>\n",
       "    </tr>\n",
       "  </thead>\n",
       "  <tbody>\n",
       "    <tr>\n",
       "      <th>2022-01-04 00:00:00+00:00</th>\n",
       "      <td>-0.000630</td>\n",
       "    </tr>\n",
       "    <tr>\n",
       "      <th>2022-01-05 00:00:00+00:00</th>\n",
       "      <td>-0.019393</td>\n",
       "    </tr>\n",
       "    <tr>\n",
       "      <th>2022-01-06 00:00:00+00:00</th>\n",
       "      <td>-0.000964</td>\n",
       "    </tr>\n",
       "    <tr>\n",
       "      <th>2022-01-07 00:00:00+00:00</th>\n",
       "      <td>-0.004050</td>\n",
       "    </tr>\n",
       "    <tr>\n",
       "      <th>2022-01-10 00:00:00+00:00</th>\n",
       "      <td>-0.001441</td>\n",
       "    </tr>\n",
       "  </tbody>\n",
       "</table>\n",
       "</div>"
      ],
      "text/plain": [
       "Ticker                        ^GSPC\n",
       "Date                               \n",
       "2022-01-04 00:00:00+00:00 -0.000630\n",
       "2022-01-05 00:00:00+00:00 -0.019393\n",
       "2022-01-06 00:00:00+00:00 -0.000964\n",
       "2022-01-07 00:00:00+00:00 -0.004050\n",
       "2022-01-10 00:00:00+00:00 -0.001441"
      ]
     },
     "execution_count": 25,
     "metadata": {},
     "output_type": "execute_result"
    }
   ],
   "source": [
    "# Calculate daily returns\n",
    "sp500_returns = sp500_closing_prices.pct_change().dropna()\n",
    "sp500_returns.head()"
   ]
  },
  {
   "cell_type": "code",
   "execution_count": 26,
   "id": "84652552-a3f7-4a00-904d-a73bd46f69e8",
   "metadata": {},
   "outputs": [
    {
     "data": {
      "text/html": [
       "<div>\n",
       "<style scoped>\n",
       "    .dataframe tbody tr th:only-of-type {\n",
       "        vertical-align: middle;\n",
       "    }\n",
       "\n",
       "    .dataframe tbody tr th {\n",
       "        vertical-align: top;\n",
       "    }\n",
       "\n",
       "    .dataframe thead th {\n",
       "        text-align: right;\n",
       "    }\n",
       "</style>\n",
       "<table border=\"1\" class=\"dataframe\">\n",
       "  <thead>\n",
       "    <tr style=\"text-align: right;\">\n",
       "      <th>Ticker</th>\n",
       "      <th>^GSPC</th>\n",
       "    </tr>\n",
       "    <tr>\n",
       "      <th>Date</th>\n",
       "      <th></th>\n",
       "    </tr>\n",
       "  </thead>\n",
       "  <tbody>\n",
       "    <tr>\n",
       "      <th>2024-11-22 00:00:00+00:00</th>\n",
       "      <td>1.244504</td>\n",
       "    </tr>\n",
       "    <tr>\n",
       "      <th>2024-11-25 00:00:00+00:00</th>\n",
       "      <td>1.248263</td>\n",
       "    </tr>\n",
       "    <tr>\n",
       "      <th>2024-11-26 00:00:00+00:00</th>\n",
       "      <td>1.255406</td>\n",
       "    </tr>\n",
       "    <tr>\n",
       "      <th>2024-11-27 00:00:00+00:00</th>\n",
       "      <td>1.250634</td>\n",
       "    </tr>\n",
       "    <tr>\n",
       "      <th>2024-11-29 00:00:00+00:00</th>\n",
       "      <td>1.257647</td>\n",
       "    </tr>\n",
       "  </tbody>\n",
       "</table>\n",
       "</div>"
      ],
      "text/plain": [
       "Ticker                        ^GSPC\n",
       "Date                               \n",
       "2024-11-22 00:00:00+00:00  1.244504\n",
       "2024-11-25 00:00:00+00:00  1.248263\n",
       "2024-11-26 00:00:00+00:00  1.255406\n",
       "2024-11-27 00:00:00+00:00  1.250634\n",
       "2024-11-29 00:00:00+00:00  1.257647"
      ]
     },
     "execution_count": 26,
     "metadata": {},
     "output_type": "execute_result"
    }
   ],
   "source": [
    "# Calculate cumulative returns (growth factor)\n",
    "sp500_cum_ret=(1+sp500_returns).cumprod()\n",
    "sp500_cum_ret.tail()"
   ]
  },
  {
   "cell_type": "markdown",
   "id": "605c45ac-d0eb-4f19-964f-803f21d442da",
   "metadata": {},
   "source": [
    "### Getting 10 year Treasury data\n",
    "iShares 7-10 Year Treasury Bond ETF (IEF)"
   ]
  },
  {
   "cell_type": "code",
   "execution_count": 28,
   "id": "30431911-a1e1-46eb-945f-28fdab5b7523",
   "metadata": {},
   "outputs": [],
   "source": [
    "T10_ticker = \"IEF\""
   ]
  },
  {
   "cell_type": "code",
   "execution_count": 29,
   "id": "5f116d5e-50a6-4cd5-8f90-b485bb349cda",
   "metadata": {},
   "outputs": [
    {
     "name": "stderr",
     "output_type": "stream",
     "text": [
      "[*********************100%***********************]  1 of 1 completed\n"
     ]
    },
    {
     "data": {
      "text/html": [
       "<div>\n",
       "<style scoped>\n",
       "    .dataframe tbody tr th:only-of-type {\n",
       "        vertical-align: middle;\n",
       "    }\n",
       "\n",
       "    .dataframe tbody tr th {\n",
       "        vertical-align: top;\n",
       "    }\n",
       "\n",
       "    .dataframe thead th {\n",
       "        text-align: right;\n",
       "    }\n",
       "</style>\n",
       "<table border=\"1\" class=\"dataframe\">\n",
       "  <thead>\n",
       "    <tr style=\"text-align: right;\">\n",
       "      <th>Ticker</th>\n",
       "      <th>IEF</th>\n",
       "    </tr>\n",
       "    <tr>\n",
       "      <th>Date</th>\n",
       "      <th></th>\n",
       "    </tr>\n",
       "  </thead>\n",
       "  <tbody>\n",
       "    <tr>\n",
       "      <th>2024-11-22 00:00:00+00:00</th>\n",
       "      <td>93.599998</td>\n",
       "    </tr>\n",
       "    <tr>\n",
       "      <th>2024-11-25 00:00:00+00:00</th>\n",
       "      <td>94.610001</td>\n",
       "    </tr>\n",
       "    <tr>\n",
       "      <th>2024-11-26 00:00:00+00:00</th>\n",
       "      <td>94.410004</td>\n",
       "    </tr>\n",
       "    <tr>\n",
       "      <th>2024-11-27 00:00:00+00:00</th>\n",
       "      <td>94.790001</td>\n",
       "    </tr>\n",
       "    <tr>\n",
       "      <th>2024-11-29 00:00:00+00:00</th>\n",
       "      <td>95.190002</td>\n",
       "    </tr>\n",
       "  </tbody>\n",
       "</table>\n",
       "</div>"
      ],
      "text/plain": [
       "Ticker                           IEF\n",
       "Date                                \n",
       "2024-11-22 00:00:00+00:00  93.599998\n",
       "2024-11-25 00:00:00+00:00  94.610001\n",
       "2024-11-26 00:00:00+00:00  94.410004\n",
       "2024-11-27 00:00:00+00:00  94.790001\n",
       "2024-11-29 00:00:00+00:00  95.190002"
      ]
     },
     "execution_count": 29,
     "metadata": {},
     "output_type": "execute_result"
    }
   ],
   "source": [
    "T10_data = yf.download(T10_ticker, start=start_date, end=end_date)\n",
    "T10_closing_prices = T10_data['Close']\n",
    "\n",
    "# Display the closing prices for BENCHMARK\n",
    "T10_closing_prices.tail()"
   ]
  },
  {
   "cell_type": "code",
   "execution_count": 30,
   "id": "545f89f2-d3f3-4d2b-8199-f369a44d7774",
   "metadata": {},
   "outputs": [
    {
     "data": {
      "text/html": [
       "<div>\n",
       "<style scoped>\n",
       "    .dataframe tbody tr th:only-of-type {\n",
       "        vertical-align: middle;\n",
       "    }\n",
       "\n",
       "    .dataframe tbody tr th {\n",
       "        vertical-align: top;\n",
       "    }\n",
       "\n",
       "    .dataframe thead th {\n",
       "        text-align: right;\n",
       "    }\n",
       "</style>\n",
       "<table border=\"1\" class=\"dataframe\">\n",
       "  <thead>\n",
       "    <tr style=\"text-align: right;\">\n",
       "      <th>Ticker</th>\n",
       "      <th>IEF</th>\n",
       "    </tr>\n",
       "    <tr>\n",
       "      <th>Date</th>\n",
       "      <th></th>\n",
       "    </tr>\n",
       "  </thead>\n",
       "  <tbody>\n",
       "    <tr>\n",
       "      <th>2022-01-04 00:00:00+00:00</th>\n",
       "      <td>-0.000527</td>\n",
       "    </tr>\n",
       "    <tr>\n",
       "      <th>2022-01-05 00:00:00+00:00</th>\n",
       "      <td>-0.004215</td>\n",
       "    </tr>\n",
       "    <tr>\n",
       "      <th>2022-01-06 00:00:00+00:00</th>\n",
       "      <td>-0.002469</td>\n",
       "    </tr>\n",
       "    <tr>\n",
       "      <th>2022-01-07 00:00:00+00:00</th>\n",
       "      <td>-0.003271</td>\n",
       "    </tr>\n",
       "    <tr>\n",
       "      <th>2022-01-10 00:00:00+00:00</th>\n",
       "      <td>-0.000266</td>\n",
       "    </tr>\n",
       "  </tbody>\n",
       "</table>\n",
       "</div>"
      ],
      "text/plain": [
       "Ticker                          IEF\n",
       "Date                               \n",
       "2022-01-04 00:00:00+00:00 -0.000527\n",
       "2022-01-05 00:00:00+00:00 -0.004215\n",
       "2022-01-06 00:00:00+00:00 -0.002469\n",
       "2022-01-07 00:00:00+00:00 -0.003271\n",
       "2022-01-10 00:00:00+00:00 -0.000266"
      ]
     },
     "execution_count": 30,
     "metadata": {},
     "output_type": "execute_result"
    }
   ],
   "source": [
    "# Calculate daily returns\n",
    "T10_returns = T10_closing_prices.pct_change().dropna()\n",
    "T10_returns.head()"
   ]
  },
  {
   "cell_type": "code",
   "execution_count": 31,
   "id": "0063635d-4211-4294-b7b6-06f12c5ab0aa",
   "metadata": {},
   "outputs": [
    {
     "data": {
      "text/html": [
       "<div>\n",
       "<style scoped>\n",
       "    .dataframe tbody tr th:only-of-type {\n",
       "        vertical-align: middle;\n",
       "    }\n",
       "\n",
       "    .dataframe tbody tr th {\n",
       "        vertical-align: top;\n",
       "    }\n",
       "\n",
       "    .dataframe thead th {\n",
       "        text-align: right;\n",
       "    }\n",
       "</style>\n",
       "<table border=\"1\" class=\"dataframe\">\n",
       "  <thead>\n",
       "    <tr style=\"text-align: right;\">\n",
       "      <th>Ticker</th>\n",
       "      <th>IEF</th>\n",
       "    </tr>\n",
       "    <tr>\n",
       "      <th>Date</th>\n",
       "      <th></th>\n",
       "    </tr>\n",
       "  </thead>\n",
       "  <tbody>\n",
       "    <tr>\n",
       "      <th>2024-11-22 00:00:00+00:00</th>\n",
       "      <td>0.821557</td>\n",
       "    </tr>\n",
       "    <tr>\n",
       "      <th>2024-11-25 00:00:00+00:00</th>\n",
       "      <td>0.830422</td>\n",
       "    </tr>\n",
       "    <tr>\n",
       "      <th>2024-11-26 00:00:00+00:00</th>\n",
       "      <td>0.828667</td>\n",
       "    </tr>\n",
       "    <tr>\n",
       "      <th>2024-11-27 00:00:00+00:00</th>\n",
       "      <td>0.832002</td>\n",
       "    </tr>\n",
       "    <tr>\n",
       "      <th>2024-11-29 00:00:00+00:00</th>\n",
       "      <td>0.835513</td>\n",
       "    </tr>\n",
       "  </tbody>\n",
       "</table>\n",
       "</div>"
      ],
      "text/plain": [
       "Ticker                          IEF\n",
       "Date                               \n",
       "2024-11-22 00:00:00+00:00  0.821557\n",
       "2024-11-25 00:00:00+00:00  0.830422\n",
       "2024-11-26 00:00:00+00:00  0.828667\n",
       "2024-11-27 00:00:00+00:00  0.832002\n",
       "2024-11-29 00:00:00+00:00  0.835513"
      ]
     },
     "execution_count": 31,
     "metadata": {},
     "output_type": "execute_result"
    }
   ],
   "source": [
    "# Calculate cumulative returns (growth factor)\n",
    "T10_cum_ret=(1+T10_returns).cumprod()\n",
    "T10_cum_ret.tail()"
   ]
  },
  {
   "cell_type": "markdown",
   "id": "ccdfece5-2191-4a52-936c-1595ae7f4175",
   "metadata": {},
   "source": [
    "### Visualizing cummulative returns and daily returns"
   ]
  },
  {
   "cell_type": "code",
   "execution_count": 33,
   "id": "b5871419-2197-47e3-b9ab-c16a9d043920",
   "metadata": {},
   "outputs": [],
   "source": [
    "MarketDataCR = sp500_cum_ret['^GSPC'].reset_index()\n",
    "TreasuryDataCR = T10_cum_ret['IEF'].reset_index()\n",
    "PortfolioDataCR = pf_cum_ret[\"Portfolio\"].reset_index()"
   ]
  },
  {
   "cell_type": "code",
   "execution_count": 34,
   "id": "ddb3c5d4-0aa2-4d8b-9df7-d679fb859d89",
   "metadata": {},
   "outputs": [],
   "source": [
    "# Convert 'Date' column in both dataframes to datetime64 (make sure they're both in the same format)\n",
    "MarketDataCR['Date'] = pd.to_datetime(MarketDataCR['Date'], errors='coerce')  # Coerce invalid formats to NaT\n",
    "TreasuryDataCR['Date'] = pd.to_datetime(TreasuryDataCR['Date'], errors='coerce')  # Same here\n",
    "PortfolioDataCR['Date'] = pd.to_datetime(PortfolioDataCR['Date'], errors='coerce')  # Same here"
   ]
  },
  {
   "cell_type": "code",
   "execution_count": 35,
   "id": "910b9678-eac1-4eef-bdf5-7754367991aa",
   "metadata": {},
   "outputs": [],
   "source": [
    "# Set 'date' as the index for all DataFrames\n",
    "MarketDataCR.set_index('Date', inplace=True)\n",
    "TreasuryDataCR.set_index('Date', inplace=True)\n",
    "PortfolioDataCR.set_index('Date', inplace=True)"
   ]
  },
  {
   "cell_type": "code",
   "execution_count": 36,
   "id": "dcc6e70e-3009-4b3f-90fd-a793b11ee749",
   "metadata": {},
   "outputs": [
    {
     "data": {
      "image/png": "[encoded data removed]",
      "text/plain": [
       "<Figure size 1200x600 with 1 Axes>"
      ]
     },
     "metadata": {},
     "output_type": "display_data"
    }
   ],
   "source": [
    "import matplotlib.pyplot as plt\n",
    "\n",
    "# Plotting\n",
    "plt.figure(figsize=(12, 6))\n",
    "plt.plot(MarketDataCR, label=\"S&P 500 Cumulative Returns\", color='blue')\n",
    "plt.plot(TreasuryDataCR, label=\"10Y Treasury Cumulative Returns\", color='green')\n",
    "plt.plot(PortfolioDataCR, label=\"Portfolio Cumulative Returns\", color='red')\n",
    "\n",
    "# Adding labels and title\n",
    "plt.title(\"Cumulative Returns Comparison\", fontsize=16)\n",
    "plt.xlabel(\"Date\", fontsize=12)\n",
    "plt.ylabel(\"Cumulative Returns\", fontsize=12)\n",
    "plt.legend(fontsize=12)\n",
    "plt.grid(alpha=0.3)\n",
    "plt.tight_layout()"
   ]
  },
  {
   "cell_type": "markdown",
   "id": "5a2d185f-5b38-4f09-942f-d67cbcd70d7b",
   "metadata": {},
   "source": [
    "### Combining dataframes"
   ]
  },
  {
   "cell_type": "code",
   "execution_count": 38,
   "id": "9db46b5e-6c5b-4f7a-8c50-ce6bb74a2ec3",
   "metadata": {},
   "outputs": [],
   "source": [
    "T_BetaData = pd.DataFrame()"
   ]
  },
  {
   "cell_type": "code",
   "execution_count": 39,
   "id": "6160d885-d894-47a8-bba8-aa34999a2ef4",
   "metadata": {},
   "outputs": [
    {
     "name": "stdout",
     "output_type": "stream",
     "text": [
      "(731, 1) (731, 1) (731, 11)\n"
     ]
    }
   ],
   "source": [
    "print(sp500_returns.shape, T10_returns.shape, returns.shape)"
   ]
  },
  {
   "cell_type": "code",
   "execution_count": 40,
   "id": "79a81b23-4ff8-4c46-8cf4-53118f76c4f0",
   "metadata": {},
   "outputs": [],
   "source": [
    "MarketData = sp500_returns['^GSPC'].reset_index()\n",
    "TreasuryData = T10_returns['IEF'].reset_index()\n",
    "PortfolioData = returns[\"Portfolio\"].reset_index()"
   ]
  },
  {
   "cell_type": "code",
   "execution_count": 41,
   "id": "4ee95be5-a49c-4b87-aeca-45f241a7a0fb",
   "metadata": {},
   "outputs": [],
   "source": [
    "# Convert 'Date' column in both dataframes to datetime64 (make sure they're both in the same format)\n",
    "MarketData['Date'] = pd.to_datetime(MarketData['Date'], errors='coerce')  # Coerce invalid formats to NaT\n",
    "TreasuryData['Date'] = pd.to_datetime(TreasuryData['Date'], errors='coerce')  # Same here\n",
    "PortfolioData['Date'] = pd.to_datetime(PortfolioData['Date'], errors='coerce')  # Same here"
   ]
  },
  {
   "cell_type": "code",
   "execution_count": 42,
   "id": "ea470788-3370-4180-9fec-0247dc9c429d",
   "metadata": {},
   "outputs": [
    {
     "name": "stdout",
     "output_type": "stream",
     "text": [
      "0 0 0\n"
     ]
    }
   ],
   "source": [
    "nat_count1 = MarketData['Date'].isna().sum()\n",
    "nat_count2 = TreasuryData['Date'].isna().sum()\n",
    "nat_count3 = PortfolioData['Date'].isna().sum()\n",
    "print(nat_count1, nat_count2, nat_count3)"
   ]
  },
  {
   "cell_type": "code",
   "execution_count": 43,
   "id": "67a9dba5-910c-47b7-9d7a-d380067a0d05",
   "metadata": {},
   "outputs": [],
   "source": [
    "# Set 'date' as the index for all DataFrames\n",
    "PortfolioData.set_index('Date', inplace=True)\n",
    "MarketData.set_index('Date', inplace=True)\n",
    "TreasuryData.set_index('Date', inplace=True)\n",
    "\n",
    "# Concatenate DataFrames horizontally\n",
    "T_BetaData = pd.concat([PortfolioData, MarketData, TreasuryData], axis=1)"
   ]
  },
  {
   "cell_type": "code",
   "execution_count": 44,
   "id": "04100efb-9eba-47be-9397-a8f079615a73",
   "metadata": {},
   "outputs": [
    {
     "data": {
      "text/html": [
       "<div>\n",
       "<style scoped>\n",
       "    .dataframe tbody tr th:only-of-type {\n",
       "        vertical-align: middle;\n",
       "    }\n",
       "\n",
       "    .dataframe tbody tr th {\n",
       "        vertical-align: top;\n",
       "    }\n",
       "\n",
       "    .dataframe thead th {\n",
       "        text-align: right;\n",
       "    }\n",
       "</style>\n",
       "<table border=\"1\" class=\"dataframe\">\n",
       "  <thead>\n",
       "    <tr style=\"text-align: right;\">\n",
       "      <th></th>\n",
       "      <th>Portfolio</th>\n",
       "      <th>^GSPC</th>\n",
       "      <th>IEF</th>\n",
       "    </tr>\n",
       "    <tr>\n",
       "      <th>Date</th>\n",
       "      <th></th>\n",
       "      <th></th>\n",
       "      <th></th>\n",
       "    </tr>\n",
       "  </thead>\n",
       "  <tbody>\n",
       "    <tr>\n",
       "      <th>2024-11-22 00:00:00+00:00</th>\n",
       "      <td>0.010004</td>\n",
       "      <td>0.003468</td>\n",
       "      <td>0.000641</td>\n",
       "    </tr>\n",
       "    <tr>\n",
       "      <th>2024-11-25 00:00:00+00:00</th>\n",
       "      <td>0.006135</td>\n",
       "      <td>0.003020</td>\n",
       "      <td>0.010791</td>\n",
       "    </tr>\n",
       "    <tr>\n",
       "      <th>2024-11-26 00:00:00+00:00</th>\n",
       "      <td>0.000363</td>\n",
       "      <td>0.005722</td>\n",
       "      <td>-0.002114</td>\n",
       "    </tr>\n",
       "    <tr>\n",
       "      <th>2024-11-27 00:00:00+00:00</th>\n",
       "      <td>-0.002521</td>\n",
       "      <td>-0.003801</td>\n",
       "      <td>0.004025</td>\n",
       "    </tr>\n",
       "    <tr>\n",
       "      <th>2024-11-29 00:00:00+00:00</th>\n",
       "      <td>0.006576</td>\n",
       "      <td>0.005608</td>\n",
       "      <td>0.004220</td>\n",
       "    </tr>\n",
       "  </tbody>\n",
       "</table>\n",
       "</div>"
      ],
      "text/plain": [
       "                           Portfolio     ^GSPC       IEF\n",
       "Date                                                    \n",
       "2024-11-22 00:00:00+00:00   0.010004  0.003468  0.000641\n",
       "2024-11-25 00:00:00+00:00   0.006135  0.003020  0.010791\n",
       "2024-11-26 00:00:00+00:00   0.000363  0.005722 -0.002114\n",
       "2024-11-27 00:00:00+00:00  -0.002521 -0.003801  0.004025\n",
       "2024-11-29 00:00:00+00:00   0.006576  0.005608  0.004220"
      ]
     },
     "execution_count": 44,
     "metadata": {},
     "output_type": "execute_result"
    }
   ],
   "source": [
    "T_BetaData.tail()"
   ]
  },
  {
   "cell_type": "code",
   "execution_count": 45,
   "id": "91cad6fc-a017-4111-9f31-f405ee2410e5",
   "metadata": {},
   "outputs": [],
   "source": [
    "# Reset index if needed\n",
    "#T_BetaData.reset_index(inplace=True)"
   ]
  },
  {
   "cell_type": "code",
   "execution_count": 46,
   "id": "e0df8613-624e-48db-abfd-a5d63a412169",
   "metadata": {},
   "outputs": [],
   "source": [
    "# Renaming columns\n",
    "T_BetaData.columns = ['Portfolio', 'Market', 'Treasury']"
   ]
  },
  {
   "cell_type": "code",
   "execution_count": 47,
   "id": "6feae217-d8f5-4fe7-8d63-9e4d591fff60",
   "metadata": {},
   "outputs": [
    {
     "data": {
      "text/html": [
       "<div>\n",
       "<style scoped>\n",
       "    .dataframe tbody tr th:only-of-type {\n",
       "        vertical-align: middle;\n",
       "    }\n",
       "\n",
       "    .dataframe tbody tr th {\n",
       "        vertical-align: top;\n",
       "    }\n",
       "\n",
       "    .dataframe thead th {\n",
       "        text-align: right;\n",
       "    }\n",
       "</style>\n",
       "<table border=\"1\" class=\"dataframe\">\n",
       "  <thead>\n",
       "    <tr style=\"text-align: right;\">\n",
       "      <th></th>\n",
       "      <th>Portfolio</th>\n",
       "      <th>Market</th>\n",
       "      <th>Treasury</th>\n",
       "    </tr>\n",
       "    <tr>\n",
       "      <th>Date</th>\n",
       "      <th></th>\n",
       "      <th></th>\n",
       "      <th></th>\n",
       "    </tr>\n",
       "  </thead>\n",
       "  <tbody>\n",
       "    <tr>\n",
       "      <th>2024-11-22 00:00:00+00:00</th>\n",
       "      <td>0.010004</td>\n",
       "      <td>0.003468</td>\n",
       "      <td>0.000641</td>\n",
       "    </tr>\n",
       "    <tr>\n",
       "      <th>2024-11-25 00:00:00+00:00</th>\n",
       "      <td>0.006135</td>\n",
       "      <td>0.003020</td>\n",
       "      <td>0.010791</td>\n",
       "    </tr>\n",
       "    <tr>\n",
       "      <th>2024-11-26 00:00:00+00:00</th>\n",
       "      <td>0.000363</td>\n",
       "      <td>0.005722</td>\n",
       "      <td>-0.002114</td>\n",
       "    </tr>\n",
       "    <tr>\n",
       "      <th>2024-11-27 00:00:00+00:00</th>\n",
       "      <td>-0.002521</td>\n",
       "      <td>-0.003801</td>\n",
       "      <td>0.004025</td>\n",
       "    </tr>\n",
       "    <tr>\n",
       "      <th>2024-11-29 00:00:00+00:00</th>\n",
       "      <td>0.006576</td>\n",
       "      <td>0.005608</td>\n",
       "      <td>0.004220</td>\n",
       "    </tr>\n",
       "  </tbody>\n",
       "</table>\n",
       "</div>"
      ],
      "text/plain": [
       "                           Portfolio    Market  Treasury\n",
       "Date                                                    \n",
       "2024-11-22 00:00:00+00:00   0.010004  0.003468  0.000641\n",
       "2024-11-25 00:00:00+00:00   0.006135  0.003020  0.010791\n",
       "2024-11-26 00:00:00+00:00   0.000363  0.005722 -0.002114\n",
       "2024-11-27 00:00:00+00:00  -0.002521 -0.003801  0.004025\n",
       "2024-11-29 00:00:00+00:00   0.006576  0.005608  0.004220"
      ]
     },
     "execution_count": 47,
     "metadata": {},
     "output_type": "execute_result"
    }
   ],
   "source": [
    "T_BetaData.tail()"
   ]
  },
  {
   "cell_type": "markdown",
   "id": "4b7bcb40-595a-4f21-8bcf-4b774e1c1326",
   "metadata": {},
   "source": [
    "### Correlation of daily returns"
   ]
  },
  {
   "cell_type": "code",
   "execution_count": 49,
   "id": "5ee7f824-c710-4c8a-9d4a-72aabc9409fe",
   "metadata": {},
   "outputs": [
    {
     "data": {
      "text/html": [
       "<div>\n",
       "<style scoped>\n",
       "    .dataframe tbody tr th:only-of-type {\n",
       "        vertical-align: middle;\n",
       "    }\n",
       "\n",
       "    .dataframe tbody tr th {\n",
       "        vertical-align: top;\n",
       "    }\n",
       "\n",
       "    .dataframe thead th {\n",
       "        text-align: right;\n",
       "    }\n",
       "</style>\n",
       "<table border=\"1\" class=\"dataframe\">\n",
       "  <thead>\n",
       "    <tr style=\"text-align: right;\">\n",
       "      <th></th>\n",
       "      <th>Portfolio</th>\n",
       "      <th>Market</th>\n",
       "      <th>Treasury</th>\n",
       "    </tr>\n",
       "  </thead>\n",
       "  <tbody>\n",
       "    <tr>\n",
       "      <th>Portfolio</th>\n",
       "      <td>1.000000</td>\n",
       "      <td>0.914213</td>\n",
       "      <td>0.069888</td>\n",
       "    </tr>\n",
       "    <tr>\n",
       "      <th>Market</th>\n",
       "      <td>0.914213</td>\n",
       "      <td>1.000000</td>\n",
       "      <td>0.125944</td>\n",
       "    </tr>\n",
       "    <tr>\n",
       "      <th>Treasury</th>\n",
       "      <td>0.069888</td>\n",
       "      <td>0.125944</td>\n",
       "      <td>1.000000</td>\n",
       "    </tr>\n",
       "  </tbody>\n",
       "</table>\n",
       "</div>"
      ],
      "text/plain": [
       "           Portfolio    Market  Treasury\n",
       "Portfolio   1.000000  0.914213  0.069888\n",
       "Market      0.914213  1.000000  0.125944\n",
       "Treasury    0.069888  0.125944  1.000000"
      ]
     },
     "execution_count": 49,
     "metadata": {},
     "output_type": "execute_result"
    }
   ],
   "source": [
    "T_BetaData.corr()"
   ]
  },
  {
   "cell_type": "markdown",
   "id": "4aaf6acc-71c1-4006-9430-3b87e9013fed",
   "metadata": {},
   "source": [
    "### Scatterplot of daily returns"
   ]
  },
  {
   "cell_type": "code",
   "execution_count": 51,
   "id": "56278128-fe15-4627-9cc9-79a369f186ab",
   "metadata": {},
   "outputs": [
    {
     "data": {
      "text/plain": [
       "Text(0.5, 1.0, 'Portfolio vs Treasury')"
      ]
     },
     "execution_count": 51,
     "metadata": {},
     "output_type": "execute_result"
    },
    {
     "data": {
      "image/png": "[encoded data removed]",
      "text/plain": [
       "<Figure size 1500x500 with 1 Axes>"
      ]
     },
     "metadata": {},
     "output_type": "display_data"
    }
   ],
   "source": [
    "import matplotlib.pyplot as plt\n",
    "plt.figure(figsize=(15, 5))\n",
    "\n",
    "# Portfolio vs Treasury\n",
    "plt.subplot(1, 3, 3)\n",
    "plt.scatter(T_BetaData['Treasury'], T_BetaData['Portfolio'])\n",
    "plt.xlabel(\"Treasury Returns\")\n",
    "plt.ylabel(\"Portfolio Returns\")\n",
    "plt.title(\"Portfolio vs Treasury\")"
   ]
  },
  {
   "cell_type": "markdown",
   "id": "e31184d6-844b-4149-a493-a3989f4c6ba5",
   "metadata": {},
   "source": [
    "Scatter plot between Treasury and Portfolio appears to resemble a a non-linear pattern, it suggests that there might be a non-linear relationship between the two variables. In this case, a linear regression model might not be the best fit for capturing the relationship accurately (at least in the selected time period)"
   ]
  },
  {
   "cell_type": "code",
   "execution_count": 53,
   "id": "4735f2e0-2576-459a-a4bf-ef4db1d0e388",
   "metadata": {},
   "outputs": [
    {
     "data": {
      "text/plain": [
       "Text(0.5, 1.0, 'Portfolio vs Market')"
      ]
     },
     "execution_count": 53,
     "metadata": {},
     "output_type": "execute_result"
    },
    {
     "data": {
      "image/png": "[encoded data removed]",
      "text/plain": [
       "<Figure size 1500x500 with 1 Axes>"
      ]
     },
     "metadata": {},
     "output_type": "display_data"
    }
   ],
   "source": [
    "plt.figure(figsize=(15, 5))\n",
    "\n",
    "# Portfolio vs Market\n",
    "plt.subplot(1, 3, 1)\n",
    "plt.scatter(T_BetaData['Market'], T_BetaData['Portfolio'])\n",
    "plt.xlabel(\"Market Returns\")\n",
    "plt.ylabel(\"Portfolio Returns\")\n",
    "plt.title(\"Portfolio vs Market\")"
   ]
  },
  {
   "cell_type": "markdown",
   "id": "4ed14e69-a6ad-4320-8e2a-72defe116795",
   "metadata": {},
   "source": [
    "### The Treasury Beta Model"
   ]
  },
  {
   "cell_type": "code",
   "execution_count": 55,
   "id": "625bc902-59fd-44e9-9be1-2bef4f6c1fb0",
   "metadata": {},
   "outputs": [],
   "source": [
    "# Import statsmodels.formula.api\n",
    "import statsmodels.formula.api as smf"
   ]
  },
  {
   "cell_type": "code",
   "execution_count": 56,
   "id": "bf8a07b4-256b-4b6b-821f-70cb75a10449",
   "metadata": {},
   "outputs": [],
   "source": [
    "# Define the regression formula\n",
    "TreasuryBeta_model = smf.ols(formula='Portfolio ~ Market + Treasury', data=T_BetaData)"
   ]
  },
  {
   "cell_type": "code",
   "execution_count": 57,
   "id": "93f03149-f393-43cd-8889-5a24551251e7",
   "metadata": {},
   "outputs": [],
   "source": [
    "# Fit the regression\n",
    "TreasuryBeta_fit = TreasuryBeta_model.fit()"
   ]
  },
  {
   "cell_type": "code",
   "execution_count": 58,
   "id": "7e8c0537-ea57-4f5c-9746-5a6438b3c9b4",
   "metadata": {},
   "outputs": [
    {
     "name": "stdout",
     "output_type": "stream",
     "text": [
      "0.8374205459255282\n"
     ]
    }
   ],
   "source": [
    "# Extract the adjusted r-squared\n",
    "regression_adj_rsq = TreasuryBeta_fit.rsquared_adj\n",
    "print(regression_adj_rsq)"
   ]
  },
  {
   "cell_type": "code",
   "execution_count": 59,
   "id": "1c86ae53-7d10-41ae-b3e4-9fa9245c4728",
   "metadata": {},
   "outputs": [
    {
     "name": "stdout",
     "output_type": "stream",
     "text": [
      "-3.086728294562281e-05\n"
     ]
    }
   ],
   "source": [
    "# Calculate your portfolio alpha\n",
    "portfolio_alpha = TreasuryBeta_fit.params['Intercept']\n",
    "print(portfolio_alpha)"
   ]
  },
  {
   "cell_type": "code",
   "execution_count": 60,
   "id": "a2ad3965-b2ec-4671-b140-e2fee4c0ab26",
   "metadata": {},
   "outputs": [
    {
     "name": "stdout",
     "output_type": "stream",
     "text": [
      "-1.0583175774958598e-05\n"
     ]
    }
   ],
   "source": [
    "# Annualize your portfolio alpha\n",
    "portfolio_alpha_annualized = ((1+portfolio_alpha)**(12/months_diff))-1\n",
    "print(portfolio_alpha_annualized)"
   ]
  },
  {
   "cell_type": "code",
   "execution_count": 61,
   "id": "8e6df037-cdd3-4854-91e0-f64aedbc300e",
   "metadata": {},
   "outputs": [
    {
     "name": "stdout",
     "output_type": "stream",
     "text": [
      "                            OLS Regression Results                            \n",
      "==============================================================================\n",
      "Dep. Variable:              Portfolio   R-squared:                       0.838\n",
      "Model:                            OLS   Adj. R-squared:                  0.837\n",
      "Method:                 Least Squares   F-statistic:                     1881.\n",
      "Date:                Mon, 16 Dec 2024   Prob (F-statistic):          2.48e-288\n",
      "Time:                        07:36:18   Log-Likelihood:                 2652.3\n",
      "No. Observations:                 731   AIC:                            -5299.\n",
      "Df Residuals:                     728   BIC:                            -5285.\n",
      "Df Model:                           2                                         \n",
      "Covariance Type:            nonrobust                                         \n",
      "==============================================================================\n",
      "                 coef    std err          t      P>|t|      [0.025      0.975]\n",
      "------------------------------------------------------------------------------\n",
      "Intercept  -3.087e-05      0.000     -0.129      0.897      -0.000       0.000\n",
      "Market         1.3264      0.022     61.157      0.000       1.284       1.369\n",
      "Treasury      -0.1300      0.043     -3.057      0.002      -0.214      -0.047\n",
      "==============================================================================\n",
      "Omnibus:                       21.264   Durbin-Watson:                   1.994\n",
      "Prob(Omnibus):                  0.000   Jarque-Bera (JB):               32.895\n",
      "Skew:                           0.244   Prob(JB):                     7.19e-08\n",
      "Kurtosis:                       3.917   Cond. No.                         179.\n",
      "==============================================================================\n",
      "\n",
      "Notes:\n",
      "[1] Standard Errors assume that the covariance matrix of the errors is correctly specified.\n"
     ]
    }
   ],
   "source": [
    "print(TreasuryBeta_fit.summary())"
   ]
  },
  {
   "cell_type": "code",
   "execution_count": 62,
   "id": "345586c4-8a94-4bd9-b666-eeaeb09bd7ef",
   "metadata": {},
   "outputs": [
    {
     "data": {
      "text/plain": [
       "-0.13002750987240738"
      ]
     },
     "execution_count": 62,
     "metadata": {},
     "output_type": "execute_result"
    }
   ],
   "source": [
    "TreasuryBeta = TreasuryBeta_fit.params['Treasury']\n",
    "TreasuryBeta"
   ]
  },
  {
   "cell_type": "markdown",
   "id": "430fa488-12a4-41a3-9826-d1176ed15e52",
   "metadata": {},
   "source": [
    "**Observations:**"
   ]
  },
  {
   "cell_type": "markdown",
   "id": "01c8d14a-0f57-4629-ac1c-e827c1956494",
   "metadata": {},
   "source": [
    "coef <br/>\n",
    "- Market: 1.3. This represents the slope of the regression line for the market. It means that **for every 1 unit increase in the market variable, the dependent variable (portfolio returns) is expected to increase by 1.3 units**, assuming the treasury variable is constant.\n",
    "\n",
    "- Treasury: -0.13. This means **for every 1 unit increase in the treasury variable**, the **dependent variable (portfolio returns) is expected to decrease by 0.13 units**, assuming the market variable is constant."
   ]
  },
  {
   "cell_type": "code",
   "execution_count": null,
   "id": "d33f79e4-df53-437c-ab87-68ec3b065517",
   "metadata": {},
   "outputs": [],
   "source": []
  }
 ],
 "metadata": {
  "kernelspec": {
   "display_name": "Python 3 (ipykernel)",
   "language": "python",
   "name": "python3"
  },
  "language_info": {
   "codemirror_mode": {
    "name": "ipython",
    "version": 3
   },
   "file_extension": ".py",
   "mimetype": "text/x-python",
   "name": "python",
   "nbconvert_exporter": "python",
   "pygments_lexer": "ipython3",
   "version": "3.11.7"
  },
  "widgets": {
   "application/vnd.jupyter.widget-state+json": {
    "state": {},
    "version_major": 2,
    "version_minor": 0
   }
  }
 },
 "nbformat": 4,
 "nbformat_minor": 5
}
