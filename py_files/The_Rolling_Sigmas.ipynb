{
 "cells": [
  {
   "cell_type": "markdown",
   "id": "6c89cc11-b2b4-4bc2-acbc-0af0572e832d",
   "metadata": {},
   "source": [
    "# The Rolling Sigmas (and Betas)\n",
    "In this project we'll try to find the 1 year rolling sigma (σ) (standard deviation/volatility) and betas (β) of sectors (taking ETFs for now as proxy) of NYSE stocks"
   ]
  },
  {
   "cell_type": "code",
   "execution_count": 2,
   "id": "85298e33-b2ec-4f38-991d-42559bcb9ef8",
   "metadata": {},
   "outputs": [],
   "source": [
    "import pandas as pd"
   ]
  },
  {
   "cell_type": "code",
   "execution_count": 3,
   "id": "86d5c252-b1ea-47b8-b2ef-334d3a4a9277",
   "metadata": {},
   "outputs": [],
   "source": [
    "import yfinance as yf"
   ]
  },
  {
   "cell_type": "markdown",
   "id": "0d4e2c0d-ed74-4fbb-bebe-a3bb2873ac12",
   "metadata": {},
   "source": [
    "## Getting and Preparing Sector data"
   ]
  },
  {
   "cell_type": "markdown",
   "id": "583adbc2-5339-4782-98e2-e17902071dbf",
   "metadata": {},
   "source": [
    "**Enter Date Range:**"
   ]
  },
  {
   "cell_type": "code",
   "execution_count": 6,
   "id": "c2c0ca5d-0794-4fc3-b918-4be71302ec41",
   "metadata": {},
   "outputs": [
    {
     "name": "stdout",
     "output_type": "stream",
     "text": [
      "35\n"
     ]
    }
   ],
   "source": [
    "# Define the start and end dates (yyyy-mm-dd)\n",
    "start_date = pd.to_datetime(\"2022-01-01\")\n",
    "end_date = pd.to_datetime(\"2024-12-20\")\n",
    "\n",
    "# Calculate the difference in months\n",
    "months_diff = (end_date.year - start_date.year) * 12 + end_date.month - start_date.month\n",
    "\n",
    "print(months_diff)"
   ]
  },
  {
   "cell_type": "markdown",
   "id": "be673cb7-2918-49f3-942b-a3c495b58d11",
   "metadata": {},
   "source": [
    "**Enter tickers:**"
   ]
  },
  {
   "cell_type": "code",
   "execution_count": 8,
   "id": "ed201962-c411-47f0-953f-d8b4e70a10e4",
   "metadata": {},
   "outputs": [],
   "source": [
    "# List of tickers\n",
    "tickers = [\"XLC\", #The Communication Services Select Sector SPDR ETF Fund (XLC)\n",
    "           \"XLE\", #The Energy Select Sector SPDR Fund (XLE)\n",
    "           \"XLF\", #The Financial Select Sector SPDR Fund (XLF)\n",
    "           \"XLV\", #The Health Care Select Sector SPDR Fund (XLV)\n",
    "           \"XLI\", #The Industrial Select Sector SPDR Fund (XLI)\n",
    "           \"XLB\", #The Materials Select Sector SPDR Fund (XLB)\n",
    "           \"XLRE\", #The Real Estate Select Sector SPDR Fund (XLRE)\n",
    "           \"XLK\", #The Technology Select Sector SPDR Fund (XLK)\n",
    "           \"XLU\", #The Utilities Select Sector SPDR Fund (XLU)\n",
    "           \"XLP\" #The Consumer Staples Select Sector SPDR Fund (XLP)\n",
    "          ]  "
   ]
  },
  {
   "cell_type": "code",
   "execution_count": 9,
   "id": "34c3a417-d146-45ee-98b2-0af20fcf8d70",
   "metadata": {},
   "outputs": [
    {
     "name": "stderr",
     "output_type": "stream",
     "text": [
      "[*********************100%***********************]  10 of 10 completed"
     ]
    },
    {
     "name": "stdout",
     "output_type": "stream",
     "text": [
      "Ticker                           XLB        XLC        XLE        XLF  \\\n",
      "Date                                                                    \n",
      "2022-01-03 00:00:00+00:00  89.430000  78.220001  57.220001  39.529999   \n",
      "2022-01-04 00:00:00+00:00  90.529999  78.050003  59.200001  40.570000   \n",
      "2022-01-05 00:00:00+00:00  90.519997  76.089996  59.189999  40.099998   \n",
      "2022-01-06 00:00:00+00:00  89.379997  76.430000  60.509998  40.689999   \n",
      "2022-01-07 00:00:00+00:00  89.300003  76.440002  61.340000  41.169998   \n",
      "\n",
      "Ticker                            XLI         XLK        XLP       XLRE  \\\n",
      "Date                                                                      \n",
      "2022-01-03 00:00:00+00:00  104.940002  175.520004  77.099998  51.330002   \n",
      "2022-01-04 00:00:00+00:00  107.050003  173.660004  77.620003  51.130001   \n",
      "2022-01-05 00:00:00+00:00  106.029999  168.320007  77.550003  49.470001   \n",
      "2022-01-06 00:00:00+00:00  106.519997  167.470001  77.339996  49.529999   \n",
      "2022-01-07 00:00:00+00:00  106.489998  165.929993  77.419998  49.270000   \n",
      "\n",
      "Ticker                           XLU         XLV  \n",
      "Date                                              \n",
      "2022-01-03 00:00:00+00:00  70.870003  139.440002  \n",
      "2022-01-04 00:00:00+00:00  70.650002  137.600006  \n",
      "2022-01-05 00:00:00+00:00  70.610001  136.619995  \n",
      "2022-01-06 00:00:00+00:00  69.879997  135.039993  \n",
      "2022-01-07 00:00:00+00:00  70.410004  134.350006  \n"
     ]
    },
    {
     "name": "stderr",
     "output_type": "stream",
     "text": [
      "\n"
     ]
    }
   ],
   "source": [
    "# Download historical data for 1 or 2 years\n",
    "data = yf.download(tickers, start=start_date, end=end_date)\n",
    "\n",
    "# Extract only the closing prices\n",
    "closing_prices = data['Close']\n",
    "\n",
    "# Display the combined DataFrame\n",
    "print(closing_prices.head())\n",
    "\n",
    "# Optionally, save to a CSV file if you want\n",
    "closing_prices.to_csv(\"nyse_closing_prices.csv\")"
   ]
  },
  {
   "cell_type": "code",
   "execution_count": 10,
   "id": "19eacaf6-9729-48fb-8c94-50c715737baa",
   "metadata": {},
   "outputs": [],
   "source": [
    "sectors_prices = pd.read_csv(r\"nyse_closing_prices.csv\", parse_dates = [\"Date\"], index_col = \"Date\")"
   ]
  },
  {
   "cell_type": "code",
   "execution_count": 11,
   "id": "2d4387ad-4505-44f2-81de-5e5485b181f0",
   "metadata": {},
   "outputs": [
    {
     "data": {
      "text/html": [
       "<div>\n",
       "<style scoped>\n",
       "    .dataframe tbody tr th:only-of-type {\n",
       "        vertical-align: middle;\n",
       "    }\n",
       "\n",
       "    .dataframe tbody tr th {\n",
       "        vertical-align: top;\n",
       "    }\n",
       "\n",
       "    .dataframe thead th {\n",
       "        text-align: right;\n",
       "    }\n",
       "</style>\n",
       "<table border=\"1\" class=\"dataframe\">\n",
       "  <thead>\n",
       "    <tr style=\"text-align: right;\">\n",
       "      <th></th>\n",
       "      <th>XLB</th>\n",
       "      <th>XLC</th>\n",
       "      <th>XLE</th>\n",
       "      <th>XLF</th>\n",
       "      <th>XLI</th>\n",
       "      <th>XLK</th>\n",
       "      <th>XLP</th>\n",
       "      <th>XLRE</th>\n",
       "      <th>XLU</th>\n",
       "      <th>XLV</th>\n",
       "    </tr>\n",
       "    <tr>\n",
       "      <th>Date</th>\n",
       "      <th></th>\n",
       "      <th></th>\n",
       "      <th></th>\n",
       "      <th></th>\n",
       "      <th></th>\n",
       "      <th></th>\n",
       "      <th></th>\n",
       "      <th></th>\n",
       "      <th></th>\n",
       "      <th></th>\n",
       "    </tr>\n",
       "  </thead>\n",
       "  <tbody>\n",
       "    <tr>\n",
       "      <th>2024-12-13 00:00:00+00:00</th>\n",
       "      <td>89.230003</td>\n",
       "      <td>100.940002</td>\n",
       "      <td>89.220001</td>\n",
       "      <td>49.540001</td>\n",
       "      <td>137.429993</td>\n",
       "      <td>239.050003</td>\n",
       "      <td>82.040001</td>\n",
       "      <td>42.830002</td>\n",
       "      <td>77.639999</td>\n",
       "      <td>140.990005</td>\n",
       "    </tr>\n",
       "    <tr>\n",
       "      <th>2024-12-16 00:00:00+00:00</th>\n",
       "      <td>88.440002</td>\n",
       "      <td>101.330002</td>\n",
       "      <td>87.260002</td>\n",
       "      <td>49.450001</td>\n",
       "      <td>137.550003</td>\n",
       "      <td>241.440002</td>\n",
       "      <td>81.610001</td>\n",
       "      <td>42.610001</td>\n",
       "      <td>77.019997</td>\n",
       "      <td>139.309998</td>\n",
       "    </tr>\n",
       "    <tr>\n",
       "      <th>2024-12-17 00:00:00+00:00</th>\n",
       "      <td>87.949997</td>\n",
       "      <td>100.570000</td>\n",
       "      <td>86.610001</td>\n",
       "      <td>49.099998</td>\n",
       "      <td>136.289993</td>\n",
       "      <td>239.979996</td>\n",
       "      <td>81.470001</td>\n",
       "      <td>42.419998</td>\n",
       "      <td>76.699997</td>\n",
       "      <td>139.210007</td>\n",
       "    </tr>\n",
       "    <tr>\n",
       "      <th>2024-12-18 00:00:00+00:00</th>\n",
       "      <td>85.449997</td>\n",
       "      <td>97.699997</td>\n",
       "      <td>84.050003</td>\n",
       "      <td>47.630001</td>\n",
       "      <td>132.440002</td>\n",
       "      <td>232.240005</td>\n",
       "      <td>80.230003</td>\n",
       "      <td>40.759998</td>\n",
       "      <td>74.889999</td>\n",
       "      <td>137.320007</td>\n",
       "    </tr>\n",
       "    <tr>\n",
       "      <th>2024-12-19 00:00:00+00:00</th>\n",
       "      <td>84.529999</td>\n",
       "      <td>97.430000</td>\n",
       "      <td>83.320000</td>\n",
       "      <td>47.799999</td>\n",
       "      <td>132.270004</td>\n",
       "      <td>232.490005</td>\n",
       "      <td>79.660004</td>\n",
       "      <td>40.060001</td>\n",
       "      <td>75.230003</td>\n",
       "      <td>136.279999</td>\n",
       "    </tr>\n",
       "  </tbody>\n",
       "</table>\n",
       "</div>"
      ],
      "text/plain": [
       "                                 XLB         XLC        XLE        XLF  \\\n",
       "Date                                                                     \n",
       "2024-12-13 00:00:00+00:00  89.230003  100.940002  89.220001  49.540001   \n",
       "2024-12-16 00:00:00+00:00  88.440002  101.330002  87.260002  49.450001   \n",
       "2024-12-17 00:00:00+00:00  87.949997  100.570000  86.610001  49.099998   \n",
       "2024-12-18 00:00:00+00:00  85.449997   97.699997  84.050003  47.630001   \n",
       "2024-12-19 00:00:00+00:00  84.529999   97.430000  83.320000  47.799999   \n",
       "\n",
       "                                  XLI         XLK        XLP       XLRE  \\\n",
       "Date                                                                      \n",
       "2024-12-13 00:00:00+00:00  137.429993  239.050003  82.040001  42.830002   \n",
       "2024-12-16 00:00:00+00:00  137.550003  241.440002  81.610001  42.610001   \n",
       "2024-12-17 00:00:00+00:00  136.289993  239.979996  81.470001  42.419998   \n",
       "2024-12-18 00:00:00+00:00  132.440002  232.240005  80.230003  40.759998   \n",
       "2024-12-19 00:00:00+00:00  132.270004  232.490005  79.660004  40.060001   \n",
       "\n",
       "                                 XLU         XLV  \n",
       "Date                                              \n",
       "2024-12-13 00:00:00+00:00  77.639999  140.990005  \n",
       "2024-12-16 00:00:00+00:00  77.019997  139.309998  \n",
       "2024-12-17 00:00:00+00:00  76.699997  139.210007  \n",
       "2024-12-18 00:00:00+00:00  74.889999  137.320007  \n",
       "2024-12-19 00:00:00+00:00  75.230003  136.279999  "
      ]
     },
     "execution_count": 11,
     "metadata": {},
     "output_type": "execute_result"
    }
   ],
   "source": [
    "sectors_prices.tail()"
   ]
  },
  {
   "cell_type": "markdown",
   "id": "3a662017-f53b-4397-94e0-064df82e58b2",
   "metadata": {},
   "source": [
    "returns capture the relative changes in value, which are essential for comparison across assets of different price levels."
   ]
  },
  {
   "cell_type": "code",
   "execution_count": 12,
   "id": "e5aac4ec-05bb-4375-8f11-c2c4415efabb",
   "metadata": {},
   "outputs": [],
   "source": [
    "sectors_pct = sectors_prices.pct_change().dropna()"
   ]
  },
  {
   "cell_type": "code",
   "execution_count": 13,
   "id": "e89a9d1c-dc99-4c4d-aae7-9c73754a3645",
   "metadata": {},
   "outputs": [
    {
     "data": {
      "text/html": [
       "<div>\n",
       "<style scoped>\n",
       "    .dataframe tbody tr th:only-of-type {\n",
       "        vertical-align: middle;\n",
       "    }\n",
       "\n",
       "    .dataframe tbody tr th {\n",
       "        vertical-align: top;\n",
       "    }\n",
       "\n",
       "    .dataframe thead th {\n",
       "        text-align: right;\n",
       "    }\n",
       "</style>\n",
       "<table border=\"1\" class=\"dataframe\">\n",
       "  <thead>\n",
       "    <tr style=\"text-align: right;\">\n",
       "      <th></th>\n",
       "      <th>XLB</th>\n",
       "      <th>XLC</th>\n",
       "      <th>XLE</th>\n",
       "      <th>XLF</th>\n",
       "      <th>XLI</th>\n",
       "      <th>XLK</th>\n",
       "      <th>XLP</th>\n",
       "      <th>XLRE</th>\n",
       "      <th>XLU</th>\n",
       "      <th>XLV</th>\n",
       "    </tr>\n",
       "    <tr>\n",
       "      <th>Date</th>\n",
       "      <th></th>\n",
       "      <th></th>\n",
       "      <th></th>\n",
       "      <th></th>\n",
       "      <th></th>\n",
       "      <th></th>\n",
       "      <th></th>\n",
       "      <th></th>\n",
       "      <th></th>\n",
       "      <th></th>\n",
       "    </tr>\n",
       "  </thead>\n",
       "  <tbody>\n",
       "    <tr>\n",
       "      <th>2022-01-04 00:00:00+00:00</th>\n",
       "      <td>0.012300</td>\n",
       "      <td>-0.002173</td>\n",
       "      <td>0.034603</td>\n",
       "      <td>0.026309</td>\n",
       "      <td>0.020107</td>\n",
       "      <td>-0.010597</td>\n",
       "      <td>0.006745</td>\n",
       "      <td>-0.003896</td>\n",
       "      <td>-0.003104</td>\n",
       "      <td>-0.013196</td>\n",
       "    </tr>\n",
       "    <tr>\n",
       "      <th>2022-01-05 00:00:00+00:00</th>\n",
       "      <td>-0.000110</td>\n",
       "      <td>-0.025112</td>\n",
       "      <td>-0.000169</td>\n",
       "      <td>-0.011585</td>\n",
       "      <td>-0.009528</td>\n",
       "      <td>-0.030750</td>\n",
       "      <td>-0.000902</td>\n",
       "      <td>-0.032466</td>\n",
       "      <td>-0.000566</td>\n",
       "      <td>-0.007122</td>\n",
       "    </tr>\n",
       "    <tr>\n",
       "      <th>2022-01-06 00:00:00+00:00</th>\n",
       "      <td>-0.012594</td>\n",
       "      <td>0.004468</td>\n",
       "      <td>0.022301</td>\n",
       "      <td>0.014713</td>\n",
       "      <td>0.004621</td>\n",
       "      <td>-0.005050</td>\n",
       "      <td>-0.002708</td>\n",
       "      <td>0.001213</td>\n",
       "      <td>-0.010339</td>\n",
       "      <td>-0.011565</td>\n",
       "    </tr>\n",
       "    <tr>\n",
       "      <th>2022-01-07 00:00:00+00:00</th>\n",
       "      <td>-0.000895</td>\n",
       "      <td>0.000131</td>\n",
       "      <td>0.013717</td>\n",
       "      <td>0.011796</td>\n",
       "      <td>-0.000282</td>\n",
       "      <td>-0.009196</td>\n",
       "      <td>0.001034</td>\n",
       "      <td>-0.005249</td>\n",
       "      <td>0.007585</td>\n",
       "      <td>-0.005110</td>\n",
       "    </tr>\n",
       "    <tr>\n",
       "      <th>2022-01-10 00:00:00+00:00</th>\n",
       "      <td>-0.010190</td>\n",
       "      <td>-0.006279</td>\n",
       "      <td>-0.003097</td>\n",
       "      <td>-0.003401</td>\n",
       "      <td>-0.011269</td>\n",
       "      <td>0.000181</td>\n",
       "      <td>-0.007879</td>\n",
       "      <td>-0.005886</td>\n",
       "      <td>-0.006533</td>\n",
       "      <td>0.010272</td>\n",
       "    </tr>\n",
       "  </tbody>\n",
       "</table>\n",
       "</div>"
      ],
      "text/plain": [
       "                                XLB       XLC       XLE       XLF       XLI  \\\n",
       "Date                                                                          \n",
       "2022-01-04 00:00:00+00:00  0.012300 -0.002173  0.034603  0.026309  0.020107   \n",
       "2022-01-05 00:00:00+00:00 -0.000110 -0.025112 -0.000169 -0.011585 -0.009528   \n",
       "2022-01-06 00:00:00+00:00 -0.012594  0.004468  0.022301  0.014713  0.004621   \n",
       "2022-01-07 00:00:00+00:00 -0.000895  0.000131  0.013717  0.011796 -0.000282   \n",
       "2022-01-10 00:00:00+00:00 -0.010190 -0.006279 -0.003097 -0.003401 -0.011269   \n",
       "\n",
       "                                XLK       XLP      XLRE       XLU       XLV  \n",
       "Date                                                                         \n",
       "2022-01-04 00:00:00+00:00 -0.010597  0.006745 -0.003896 -0.003104 -0.013196  \n",
       "2022-01-05 00:00:00+00:00 -0.030750 -0.000902 -0.032466 -0.000566 -0.007122  \n",
       "2022-01-06 00:00:00+00:00 -0.005050 -0.002708  0.001213 -0.010339 -0.011565  \n",
       "2022-01-07 00:00:00+00:00 -0.009196  0.001034 -0.005249  0.007585 -0.005110  \n",
       "2022-01-10 00:00:00+00:00  0.000181 -0.007879 -0.005886 -0.006533  0.010272  "
      ]
     },
     "execution_count": 13,
     "metadata": {},
     "output_type": "execute_result"
    }
   ],
   "source": [
    "sectors_pct.head()"
   ]
  },
  {
   "cell_type": "code",
   "execution_count": 14,
   "id": "c157c512-2cee-4ea1-b556-76f77d7e2748",
   "metadata": {},
   "outputs": [],
   "source": [
    "sectors_returns = sectors_pct.copy()"
   ]
  },
  {
   "cell_type": "code",
   "execution_count": 15,
   "id": "ebdeee46-f936-4ea6-88cb-b8044a77b36d",
   "metadata": {},
   "outputs": [],
   "source": [
    "# Convert the datetime index to date only\n",
    "sectors_returns.index = sectors_returns.index.date"
   ]
  },
  {
   "cell_type": "code",
   "execution_count": 16,
   "id": "3332bb47-201e-4618-aa37-00869502e0dc",
   "metadata": {},
   "outputs": [],
   "source": [
    "# Reset the index to include the date column\n",
    "df_reset = sectors_returns.reset_index()"
   ]
  },
  {
   "cell_type": "code",
   "execution_count": 17,
   "id": "cb32803c-be24-4441-94d6-d7813d96f29f",
   "metadata": {},
   "outputs": [],
   "source": [
    "# Rename the \"index\" column to \"Date\"\n",
    "df_reset = df_reset.rename(columns={\"index\": \"Date\"})\n",
    "\n",
    "# Save to Excel\n",
    "df_reset.to_excel('sectors %change.xlsx', index=False)"
   ]
  },
  {
   "cell_type": "code",
   "execution_count": 18,
   "id": "3cd58fcc-e8ec-4960-9acf-3becfa23be91",
   "metadata": {},
   "outputs": [
    {
     "data": {
      "text/html": [
       "<div>\n",
       "<style scoped>\n",
       "    .dataframe tbody tr th:only-of-type {\n",
       "        vertical-align: middle;\n",
       "    }\n",
       "\n",
       "    .dataframe tbody tr th {\n",
       "        vertical-align: top;\n",
       "    }\n",
       "\n",
       "    .dataframe thead th {\n",
       "        text-align: right;\n",
       "    }\n",
       "</style>\n",
       "<table border=\"1\" class=\"dataframe\">\n",
       "  <thead>\n",
       "    <tr style=\"text-align: right;\">\n",
       "      <th></th>\n",
       "      <th>Date</th>\n",
       "      <th>XLB</th>\n",
       "      <th>XLC</th>\n",
       "      <th>XLE</th>\n",
       "      <th>XLF</th>\n",
       "      <th>XLI</th>\n",
       "      <th>XLK</th>\n",
       "      <th>XLP</th>\n",
       "      <th>XLRE</th>\n",
       "      <th>XLU</th>\n",
       "      <th>XLV</th>\n",
       "    </tr>\n",
       "  </thead>\n",
       "  <tbody>\n",
       "    <tr>\n",
       "      <th>0</th>\n",
       "      <td>2022-01-04</td>\n",
       "      <td>0.012300</td>\n",
       "      <td>-0.002173</td>\n",
       "      <td>0.034603</td>\n",
       "      <td>0.026309</td>\n",
       "      <td>0.020107</td>\n",
       "      <td>-0.010597</td>\n",
       "      <td>0.006745</td>\n",
       "      <td>-0.003896</td>\n",
       "      <td>-0.003104</td>\n",
       "      <td>-0.013196</td>\n",
       "    </tr>\n",
       "    <tr>\n",
       "      <th>1</th>\n",
       "      <td>2022-01-05</td>\n",
       "      <td>-0.000110</td>\n",
       "      <td>-0.025112</td>\n",
       "      <td>-0.000169</td>\n",
       "      <td>-0.011585</td>\n",
       "      <td>-0.009528</td>\n",
       "      <td>-0.030750</td>\n",
       "      <td>-0.000902</td>\n",
       "      <td>-0.032466</td>\n",
       "      <td>-0.000566</td>\n",
       "      <td>-0.007122</td>\n",
       "    </tr>\n",
       "    <tr>\n",
       "      <th>2</th>\n",
       "      <td>2022-01-06</td>\n",
       "      <td>-0.012594</td>\n",
       "      <td>0.004468</td>\n",
       "      <td>0.022301</td>\n",
       "      <td>0.014713</td>\n",
       "      <td>0.004621</td>\n",
       "      <td>-0.005050</td>\n",
       "      <td>-0.002708</td>\n",
       "      <td>0.001213</td>\n",
       "      <td>-0.010339</td>\n",
       "      <td>-0.011565</td>\n",
       "    </tr>\n",
       "  </tbody>\n",
       "</table>\n",
       "</div>"
      ],
      "text/plain": [
       "         Date       XLB       XLC       XLE       XLF       XLI       XLK  \\\n",
       "0  2022-01-04  0.012300 -0.002173  0.034603  0.026309  0.020107 -0.010597   \n",
       "1  2022-01-05 -0.000110 -0.025112 -0.000169 -0.011585 -0.009528 -0.030750   \n",
       "2  2022-01-06 -0.012594  0.004468  0.022301  0.014713  0.004621 -0.005050   \n",
       "\n",
       "        XLP      XLRE       XLU       XLV  \n",
       "0  0.006745 -0.003896 -0.003104 -0.013196  \n",
       "1 -0.000902 -0.032466 -0.000566 -0.007122  \n",
       "2 -0.002708  0.001213 -0.010339 -0.011565  "
      ]
     },
     "execution_count": 18,
     "metadata": {},
     "output_type": "execute_result"
    }
   ],
   "source": [
    "df_reset.head(3)"
   ]
  },
  {
   "cell_type": "markdown",
   "id": "23f03972-5898-4337-a16b-8fd7558e5ef1",
   "metadata": {},
   "source": [
    "**Get Market index data**"
   ]
  },
  {
   "cell_type": "code",
   "execution_count": 20,
   "id": "24b9e56b-516a-4453-b200-0b5133e2b8bb",
   "metadata": {},
   "outputs": [],
   "source": [
    "benchmark = \"^GSPC\""
   ]
  },
  {
   "cell_type": "code",
   "execution_count": 21,
   "id": "2fbf957a-130c-49b9-b445-9e4dd560ca37",
   "metadata": {},
   "outputs": [
    {
     "name": "stderr",
     "output_type": "stream",
     "text": [
      "[*********************100%***********************]  1 of 1 completed\n"
     ]
    },
    {
     "data": {
      "text/html": [
       "<div>\n",
       "<style scoped>\n",
       "    .dataframe tbody tr th:only-of-type {\n",
       "        vertical-align: middle;\n",
       "    }\n",
       "\n",
       "    .dataframe tbody tr th {\n",
       "        vertical-align: top;\n",
       "    }\n",
       "\n",
       "    .dataframe thead th {\n",
       "        text-align: right;\n",
       "    }\n",
       "</style>\n",
       "<table border=\"1\" class=\"dataframe\">\n",
       "  <thead>\n",
       "    <tr style=\"text-align: right;\">\n",
       "      <th>Ticker</th>\n",
       "      <th>^GSPC</th>\n",
       "    </tr>\n",
       "    <tr>\n",
       "      <th>Date</th>\n",
       "      <th></th>\n",
       "    </tr>\n",
       "  </thead>\n",
       "  <tbody>\n",
       "    <tr>\n",
       "      <th>2024-12-13 00:00:00+00:00</th>\n",
       "      <td>6051.089844</td>\n",
       "    </tr>\n",
       "    <tr>\n",
       "      <th>2024-12-16 00:00:00+00:00</th>\n",
       "      <td>6074.080078</td>\n",
       "    </tr>\n",
       "    <tr>\n",
       "      <th>2024-12-17 00:00:00+00:00</th>\n",
       "      <td>6050.609863</td>\n",
       "    </tr>\n",
       "    <tr>\n",
       "      <th>2024-12-18 00:00:00+00:00</th>\n",
       "      <td>5872.160156</td>\n",
       "    </tr>\n",
       "    <tr>\n",
       "      <th>2024-12-19 00:00:00+00:00</th>\n",
       "      <td>5867.080078</td>\n",
       "    </tr>\n",
       "  </tbody>\n",
       "</table>\n",
       "</div>"
      ],
      "text/plain": [
       "Ticker                           ^GSPC\n",
       "Date                                  \n",
       "2024-12-13 00:00:00+00:00  6051.089844\n",
       "2024-12-16 00:00:00+00:00  6074.080078\n",
       "2024-12-17 00:00:00+00:00  6050.609863\n",
       "2024-12-18 00:00:00+00:00  5872.160156\n",
       "2024-12-19 00:00:00+00:00  5867.080078"
      ]
     },
     "execution_count": 21,
     "metadata": {},
     "output_type": "execute_result"
    }
   ],
   "source": [
    "benchmark_data = yf.download(benchmark, start=start_date, end=end_date)\n",
    "benchmark_prices = benchmark_data['Close']\n",
    "\n",
    "# Display the closing prices for BENCHMARK\n",
    "benchmark_prices.tail()"
   ]
  },
  {
   "cell_type": "code",
   "execution_count": 22,
   "id": "0d74b20a-278c-40c3-8a85-dd84d2beeee7",
   "metadata": {},
   "outputs": [
    {
     "data": {
      "text/html": [
       "<div>\n",
       "<style scoped>\n",
       "    .dataframe tbody tr th:only-of-type {\n",
       "        vertical-align: middle;\n",
       "    }\n",
       "\n",
       "    .dataframe tbody tr th {\n",
       "        vertical-align: top;\n",
       "    }\n",
       "\n",
       "    .dataframe thead th {\n",
       "        text-align: right;\n",
       "    }\n",
       "</style>\n",
       "<table border=\"1\" class=\"dataframe\">\n",
       "  <thead>\n",
       "    <tr style=\"text-align: right;\">\n",
       "      <th>Ticker</th>\n",
       "      <th>^GSPC</th>\n",
       "    </tr>\n",
       "    <tr>\n",
       "      <th>Date</th>\n",
       "      <th></th>\n",
       "    </tr>\n",
       "  </thead>\n",
       "  <tbody>\n",
       "    <tr>\n",
       "      <th>2022-01-04 00:00:00+00:00</th>\n",
       "      <td>-0.000630</td>\n",
       "    </tr>\n",
       "    <tr>\n",
       "      <th>2022-01-05 00:00:00+00:00</th>\n",
       "      <td>-0.019393</td>\n",
       "    </tr>\n",
       "    <tr>\n",
       "      <th>2022-01-06 00:00:00+00:00</th>\n",
       "      <td>-0.000964</td>\n",
       "    </tr>\n",
       "    <tr>\n",
       "      <th>2022-01-07 00:00:00+00:00</th>\n",
       "      <td>-0.004050</td>\n",
       "    </tr>\n",
       "    <tr>\n",
       "      <th>2022-01-10 00:00:00+00:00</th>\n",
       "      <td>-0.001441</td>\n",
       "    </tr>\n",
       "  </tbody>\n",
       "</table>\n",
       "</div>"
      ],
      "text/plain": [
       "Ticker                        ^GSPC\n",
       "Date                               \n",
       "2022-01-04 00:00:00+00:00 -0.000630\n",
       "2022-01-05 00:00:00+00:00 -0.019393\n",
       "2022-01-06 00:00:00+00:00 -0.000964\n",
       "2022-01-07 00:00:00+00:00 -0.004050\n",
       "2022-01-10 00:00:00+00:00 -0.001441"
      ]
     },
     "execution_count": 22,
     "metadata": {},
     "output_type": "execute_result"
    }
   ],
   "source": [
    "# Calculate daily returns\n",
    "benchmark_pct = benchmark_prices.pct_change().dropna()\n",
    "benchmark_pct.head()"
   ]
  },
  {
   "cell_type": "code",
   "execution_count": 65,
   "id": "9df383e4-5f97-4c62-a61f-4d1ab4adffb4",
   "metadata": {},
   "outputs": [],
   "source": [
    "benchmark_pct.columns = ['Benchmark']"
   ]
  },
  {
   "cell_type": "code",
   "execution_count": 67,
   "id": "bec9cbd1-b1d5-4b59-80a6-5e9f4ab67871",
   "metadata": {},
   "outputs": [],
   "source": [
    "benchmark_returns = benchmark_pct.copy()"
   ]
  },
  {
   "cell_type": "markdown",
   "id": "ef8488c4-5ca0-4ae2-a565-c070ed90bdaa",
   "metadata": {},
   "source": [
    "## Rolling standard deviation (σ)"
   ]
  },
  {
   "cell_type": "code",
   "execution_count": 70,
   "id": "a8a8d18b-8a47-4346-9c7f-1c000d061dab",
   "metadata": {},
   "outputs": [],
   "source": [
    "# Calculate the 1-year rolling standard deviation for daily percentage change\n",
    "# Assuming 252 trading days in a year\n",
    "rolling_std = sectors_returns.rolling(window=252).std()"
   ]
  },
  {
   "cell_type": "code",
   "execution_count": 72,
   "id": "fa1dd64d-8d46-46d6-b375-455cdae992dd",
   "metadata": {},
   "outputs": [],
   "source": [
    "rolling_std.dropna(inplace = True)"
   ]
  },
  {
   "cell_type": "code",
   "execution_count": 74,
   "id": "1be6669f-f7ab-4f0e-97b9-374cfc501a9d",
   "metadata": {},
   "outputs": [
    {
     "data": {
      "text/plain": [
       "(494, 10)"
      ]
     },
     "execution_count": 74,
     "metadata": {},
     "output_type": "execute_result"
    }
   ],
   "source": [
    "rolling_std.shape"
   ]
  },
  {
   "cell_type": "code",
   "execution_count": 76,
   "id": "f68aeb35-8c14-49c6-99b0-5ae90e2fb29c",
   "metadata": {},
   "outputs": [],
   "source": [
    "# Save the result to Excel\n",
    "rolling_std.to_excel('1_year_rolling_std.xlsx')"
   ]
  },
  {
   "cell_type": "markdown",
   "id": "9b9af93b-1b69-4dfc-b736-f6597fb1c1bf",
   "metadata": {},
   "source": [
    "## Rolling Beta (β)"
   ]
  },
  {
   "cell_type": "code",
   "execution_count": 79,
   "id": "81129ec3-be95-4bf6-8efe-6ee26955ff5f",
   "metadata": {},
   "outputs": [],
   "source": [
    "# Convert datetime indices to date-only\n",
    "benchmark_returns.index = benchmark_returns.index.date"
   ]
  },
  {
   "cell_type": "code",
   "execution_count": 81,
   "id": "59e63595-3d78-4abe-8b53-c1014b039a91",
   "metadata": {},
   "outputs": [],
   "source": [
    "# Join the two DataFrames based on the aligned dates\n",
    "aligned_data = sectors_returns.join(benchmark_returns, how=\"inner\")"
   ]
  },
  {
   "cell_type": "code",
   "execution_count": 83,
   "id": "23020fda-a04c-447c-bb5a-836e1e96a375",
   "metadata": {},
   "outputs": [
    {
     "data": {
      "text/html": [
       "<div>\n",
       "<style scoped>\n",
       "    .dataframe tbody tr th:only-of-type {\n",
       "        vertical-align: middle;\n",
       "    }\n",
       "\n",
       "    .dataframe tbody tr th {\n",
       "        vertical-align: top;\n",
       "    }\n",
       "\n",
       "    .dataframe thead th {\n",
       "        text-align: right;\n",
       "    }\n",
       "</style>\n",
       "<table border=\"1\" class=\"dataframe\">\n",
       "  <thead>\n",
       "    <tr style=\"text-align: right;\">\n",
       "      <th></th>\n",
       "      <th>XLB</th>\n",
       "      <th>XLC</th>\n",
       "      <th>XLE</th>\n",
       "      <th>XLF</th>\n",
       "      <th>XLI</th>\n",
       "      <th>XLK</th>\n",
       "      <th>XLP</th>\n",
       "      <th>XLRE</th>\n",
       "      <th>XLU</th>\n",
       "      <th>XLV</th>\n",
       "      <th>Benchmark</th>\n",
       "    </tr>\n",
       "  </thead>\n",
       "  <tbody>\n",
       "    <tr>\n",
       "      <th>2022-01-04</th>\n",
       "      <td>0.012300</td>\n",
       "      <td>-0.002173</td>\n",
       "      <td>0.034603</td>\n",
       "      <td>0.026309</td>\n",
       "      <td>0.020107</td>\n",
       "      <td>-0.010597</td>\n",
       "      <td>0.006745</td>\n",
       "      <td>-0.003896</td>\n",
       "      <td>-0.003104</td>\n",
       "      <td>-0.013196</td>\n",
       "      <td>-0.000630</td>\n",
       "    </tr>\n",
       "    <tr>\n",
       "      <th>2022-01-05</th>\n",
       "      <td>-0.000110</td>\n",
       "      <td>-0.025112</td>\n",
       "      <td>-0.000169</td>\n",
       "      <td>-0.011585</td>\n",
       "      <td>-0.009528</td>\n",
       "      <td>-0.030750</td>\n",
       "      <td>-0.000902</td>\n",
       "      <td>-0.032466</td>\n",
       "      <td>-0.000566</td>\n",
       "      <td>-0.007122</td>\n",
       "      <td>-0.019393</td>\n",
       "    </tr>\n",
       "    <tr>\n",
       "      <th>2022-01-06</th>\n",
       "      <td>-0.012594</td>\n",
       "      <td>0.004468</td>\n",
       "      <td>0.022301</td>\n",
       "      <td>0.014713</td>\n",
       "      <td>0.004621</td>\n",
       "      <td>-0.005050</td>\n",
       "      <td>-0.002708</td>\n",
       "      <td>0.001213</td>\n",
       "      <td>-0.010339</td>\n",
       "      <td>-0.011565</td>\n",
       "      <td>-0.000964</td>\n",
       "    </tr>\n",
       "    <tr>\n",
       "      <th>2022-01-07</th>\n",
       "      <td>-0.000895</td>\n",
       "      <td>0.000131</td>\n",
       "      <td>0.013717</td>\n",
       "      <td>0.011796</td>\n",
       "      <td>-0.000282</td>\n",
       "      <td>-0.009196</td>\n",
       "      <td>0.001034</td>\n",
       "      <td>-0.005249</td>\n",
       "      <td>0.007585</td>\n",
       "      <td>-0.005110</td>\n",
       "      <td>-0.004050</td>\n",
       "    </tr>\n",
       "    <tr>\n",
       "      <th>2022-01-10</th>\n",
       "      <td>-0.010190</td>\n",
       "      <td>-0.006279</td>\n",
       "      <td>-0.003097</td>\n",
       "      <td>-0.003401</td>\n",
       "      <td>-0.011269</td>\n",
       "      <td>0.000181</td>\n",
       "      <td>-0.007879</td>\n",
       "      <td>-0.005886</td>\n",
       "      <td>-0.006533</td>\n",
       "      <td>0.010272</td>\n",
       "      <td>-0.001441</td>\n",
       "    </tr>\n",
       "  </tbody>\n",
       "</table>\n",
       "</div>"
      ],
      "text/plain": [
       "                 XLB       XLC       XLE       XLF       XLI       XLK  \\\n",
       "2022-01-04  0.012300 -0.002173  0.034603  0.026309  0.020107 -0.010597   \n",
       "2022-01-05 -0.000110 -0.025112 -0.000169 -0.011585 -0.009528 -0.030750   \n",
       "2022-01-06 -0.012594  0.004468  0.022301  0.014713  0.004621 -0.005050   \n",
       "2022-01-07 -0.000895  0.000131  0.013717  0.011796 -0.000282 -0.009196   \n",
       "2022-01-10 -0.010190 -0.006279 -0.003097 -0.003401 -0.011269  0.000181   \n",
       "\n",
       "                 XLP      XLRE       XLU       XLV  Benchmark  \n",
       "2022-01-04  0.006745 -0.003896 -0.003104 -0.013196  -0.000630  \n",
       "2022-01-05 -0.000902 -0.032466 -0.000566 -0.007122  -0.019393  \n",
       "2022-01-06 -0.002708  0.001213 -0.010339 -0.011565  -0.000964  \n",
       "2022-01-07  0.001034 -0.005249  0.007585 -0.005110  -0.004050  \n",
       "2022-01-10 -0.007879 -0.005886 -0.006533  0.010272  -0.001441  "
      ]
     },
     "execution_count": 83,
     "metadata": {},
     "output_type": "execute_result"
    }
   ],
   "source": [
    "aligned_data.head()"
   ]
  },
  {
   "cell_type": "code",
   "execution_count": 89,
   "id": "8de87ac5-324f-4631-b696-5a5c9d542b17",
   "metadata": {},
   "outputs": [
    {
     "data": {
      "text/html": [
       "<div>\n",
       "<style scoped>\n",
       "    .dataframe tbody tr th:only-of-type {\n",
       "        vertical-align: middle;\n",
       "    }\n",
       "\n",
       "    .dataframe tbody tr th {\n",
       "        vertical-align: top;\n",
       "    }\n",
       "\n",
       "    .dataframe thead th {\n",
       "        text-align: right;\n",
       "    }\n",
       "</style>\n",
       "<table border=\"1\" class=\"dataframe\">\n",
       "  <thead>\n",
       "    <tr style=\"text-align: right;\">\n",
       "      <th></th>\n",
       "      <th>XLB</th>\n",
       "      <th>XLC</th>\n",
       "      <th>XLE</th>\n",
       "      <th>XLF</th>\n",
       "      <th>XLI</th>\n",
       "      <th>XLK</th>\n",
       "      <th>XLP</th>\n",
       "      <th>XLRE</th>\n",
       "      <th>XLU</th>\n",
       "      <th>XLV</th>\n",
       "    </tr>\n",
       "  </thead>\n",
       "  <tbody>\n",
       "    <tr>\n",
       "      <th>2024-12-13</th>\n",
       "      <td>0.000040</td>\n",
       "      <td>0.000056</td>\n",
       "      <td>0.000024</td>\n",
       "      <td>0.000041</td>\n",
       "      <td>0.000050</td>\n",
       "      <td>0.000095</td>\n",
       "      <td>0.000014</td>\n",
       "      <td>0.000030</td>\n",
       "      <td>0.000014</td>\n",
       "      <td>0.000027</td>\n",
       "    </tr>\n",
       "    <tr>\n",
       "      <th>2024-12-16</th>\n",
       "      <td>0.000040</td>\n",
       "      <td>0.000056</td>\n",
       "      <td>0.000024</td>\n",
       "      <td>0.000041</td>\n",
       "      <td>0.000050</td>\n",
       "      <td>0.000095</td>\n",
       "      <td>0.000014</td>\n",
       "      <td>0.000029</td>\n",
       "      <td>0.000014</td>\n",
       "      <td>0.000027</td>\n",
       "    </tr>\n",
       "    <tr>\n",
       "      <th>2024-12-17</th>\n",
       "      <td>0.000040</td>\n",
       "      <td>0.000056</td>\n",
       "      <td>0.000024</td>\n",
       "      <td>0.000041</td>\n",
       "      <td>0.000051</td>\n",
       "      <td>0.000095</td>\n",
       "      <td>0.000014</td>\n",
       "      <td>0.000029</td>\n",
       "      <td>0.000014</td>\n",
       "      <td>0.000027</td>\n",
       "    </tr>\n",
       "    <tr>\n",
       "      <th>2024-12-18</th>\n",
       "      <td>0.000044</td>\n",
       "      <td>0.000060</td>\n",
       "      <td>0.000028</td>\n",
       "      <td>0.000044</td>\n",
       "      <td>0.000054</td>\n",
       "      <td>0.000099</td>\n",
       "      <td>0.000016</td>\n",
       "      <td>0.000034</td>\n",
       "      <td>0.000017</td>\n",
       "      <td>0.000028</td>\n",
       "    </tr>\n",
       "    <tr>\n",
       "      <th>2024-12-19</th>\n",
       "      <td>0.000043</td>\n",
       "      <td>0.000060</td>\n",
       "      <td>0.000027</td>\n",
       "      <td>0.000044</td>\n",
       "      <td>0.000054</td>\n",
       "      <td>0.000099</td>\n",
       "      <td>0.000016</td>\n",
       "      <td>0.000034</td>\n",
       "      <td>0.000017</td>\n",
       "      <td>0.000028</td>\n",
       "    </tr>\n",
       "  </tbody>\n",
       "</table>\n",
       "</div>"
      ],
      "text/plain": [
       "                 XLB       XLC       XLE       XLF       XLI       XLK  \\\n",
       "2024-12-13  0.000040  0.000056  0.000024  0.000041  0.000050  0.000095   \n",
       "2024-12-16  0.000040  0.000056  0.000024  0.000041  0.000050  0.000095   \n",
       "2024-12-17  0.000040  0.000056  0.000024  0.000041  0.000051  0.000095   \n",
       "2024-12-18  0.000044  0.000060  0.000028  0.000044  0.000054  0.000099   \n",
       "2024-12-19  0.000043  0.000060  0.000027  0.000044  0.000054  0.000099   \n",
       "\n",
       "                 XLP      XLRE       XLU       XLV  \n",
       "2024-12-13  0.000014  0.000030  0.000014  0.000027  \n",
       "2024-12-16  0.000014  0.000029  0.000014  0.000027  \n",
       "2024-12-17  0.000014  0.000029  0.000014  0.000027  \n",
       "2024-12-18  0.000016  0.000034  0.000017  0.000028  \n",
       "2024-12-19  0.000016  0.000034  0.000017  0.000028  "
      ]
     },
     "execution_count": 89,
     "metadata": {},
     "output_type": "execute_result"
    }
   ],
   "source": [
    "# Calculate the 1-year rolling covariance with S&P 500 for each stock\n",
    "rolling_cov = aligned_data.iloc[:, :-1].rolling(window=252).cov(aligned_data['Benchmark'])\n",
    "\n",
    "rolling_cov.tail()"
   ]
  },
  {
   "cell_type": "code",
   "execution_count": 93,
   "id": "a13968db-19c1-48b6-8257-b1a3f04b21c6",
   "metadata": {},
   "outputs": [
    {
     "data": {
      "text/plain": [
       "2024-12-13    0.000059\n",
       "2024-12-16    0.000059\n",
       "2024-12-17    0.000059\n",
       "2024-12-18    0.000063\n",
       "2024-12-19    0.000063\n",
       "Name: Benchmark, dtype: float64"
      ]
     },
     "execution_count": 93,
     "metadata": {},
     "output_type": "execute_result"
    }
   ],
   "source": [
    "# Calculate the 1-year rolling variance of S&P 500\n",
    "rolling_var = aligned_data['Benchmark'].rolling(window=252).var()\n",
    "rolling_var.tail()"
   ]
  },
  {
   "cell_type": "code",
   "execution_count": 109,
   "id": "fb716399-47ab-4d00-90d2-2edf10b187e0",
   "metadata": {},
   "outputs": [],
   "source": [
    "# Calculate rolling beta for each stock\n",
    "rolling_beta = rolling_cov.div(rolling_var, axis=0)"
   ]
  },
  {
   "cell_type": "code",
   "execution_count": 111,
   "id": "9efad935-383c-4ebb-9a9f-0e221245bd46",
   "metadata": {},
   "outputs": [
    {
     "data": {
      "text/html": [
       "<div>\n",
       "<style scoped>\n",
       "    .dataframe tbody tr th:only-of-type {\n",
       "        vertical-align: middle;\n",
       "    }\n",
       "\n",
       "    .dataframe tbody tr th {\n",
       "        vertical-align: top;\n",
       "    }\n",
       "\n",
       "    .dataframe thead th {\n",
       "        text-align: right;\n",
       "    }\n",
       "</style>\n",
       "<table border=\"1\" class=\"dataframe\">\n",
       "  <thead>\n",
       "    <tr style=\"text-align: right;\">\n",
       "      <th></th>\n",
       "      <th>XLB</th>\n",
       "      <th>XLC</th>\n",
       "      <th>XLE</th>\n",
       "      <th>XLF</th>\n",
       "      <th>XLI</th>\n",
       "      <th>XLK</th>\n",
       "      <th>XLP</th>\n",
       "      <th>XLRE</th>\n",
       "      <th>XLU</th>\n",
       "      <th>XLV</th>\n",
       "    </tr>\n",
       "  </thead>\n",
       "  <tbody>\n",
       "    <tr>\n",
       "      <th>2024-12-13</th>\n",
       "      <td>0.679205</td>\n",
       "      <td>0.948908</td>\n",
       "      <td>0.411471</td>\n",
       "      <td>0.688291</td>\n",
       "      <td>0.854853</td>\n",
       "      <td>1.607451</td>\n",
       "      <td>0.235232</td>\n",
       "      <td>0.500397</td>\n",
       "      <td>0.229794</td>\n",
       "      <td>0.453217</td>\n",
       "    </tr>\n",
       "    <tr>\n",
       "      <th>2024-12-16</th>\n",
       "      <td>0.675497</td>\n",
       "      <td>0.948717</td>\n",
       "      <td>0.403999</td>\n",
       "      <td>0.686542</td>\n",
       "      <td>0.853254</td>\n",
       "      <td>1.608961</td>\n",
       "      <td>0.235731</td>\n",
       "      <td>0.496224</td>\n",
       "      <td>0.229591</td>\n",
       "      <td>0.451354</td>\n",
       "    </tr>\n",
       "    <tr>\n",
       "      <th>2024-12-17</th>\n",
       "      <td>0.676141</td>\n",
       "      <td>0.949916</td>\n",
       "      <td>0.405484</td>\n",
       "      <td>0.687676</td>\n",
       "      <td>0.855070</td>\n",
       "      <td>1.609124</td>\n",
       "      <td>0.236077</td>\n",
       "      <td>0.496105</td>\n",
       "      <td>0.229512</td>\n",
       "      <td>0.450311</td>\n",
       "    </tr>\n",
       "    <tr>\n",
       "      <th>2024-12-18</th>\n",
       "      <td>0.693309</td>\n",
       "      <td>0.950631</td>\n",
       "      <td>0.439612</td>\n",
       "      <td>0.708287</td>\n",
       "      <td>0.862876</td>\n",
       "      <td>1.579939</td>\n",
       "      <td>0.252253</td>\n",
       "      <td>0.546406</td>\n",
       "      <td>0.265998</td>\n",
       "      <td>0.451387</td>\n",
       "    </tr>\n",
       "    <tr>\n",
       "      <th>2024-12-19</th>\n",
       "      <td>0.692552</td>\n",
       "      <td>0.949565</td>\n",
       "      <td>0.437380</td>\n",
       "      <td>0.706928</td>\n",
       "      <td>0.862052</td>\n",
       "      <td>1.581182</td>\n",
       "      <td>0.252962</td>\n",
       "      <td>0.546943</td>\n",
       "      <td>0.264368</td>\n",
       "      <td>0.450757</td>\n",
       "    </tr>\n",
       "  </tbody>\n",
       "</table>\n",
       "</div>"
      ],
      "text/plain": [
       "                 XLB       XLC       XLE       XLF       XLI       XLK  \\\n",
       "2024-12-13  0.679205  0.948908  0.411471  0.688291  0.854853  1.607451   \n",
       "2024-12-16  0.675497  0.948717  0.403999  0.686542  0.853254  1.608961   \n",
       "2024-12-17  0.676141  0.949916  0.405484  0.687676  0.855070  1.609124   \n",
       "2024-12-18  0.693309  0.950631  0.439612  0.708287  0.862876  1.579939   \n",
       "2024-12-19  0.692552  0.949565  0.437380  0.706928  0.862052  1.581182   \n",
       "\n",
       "                 XLP      XLRE       XLU       XLV  \n",
       "2024-12-13  0.235232  0.500397  0.229794  0.453217  \n",
       "2024-12-16  0.235731  0.496224  0.229591  0.451354  \n",
       "2024-12-17  0.236077  0.496105  0.229512  0.450311  \n",
       "2024-12-18  0.252253  0.546406  0.265998  0.451387  \n",
       "2024-12-19  0.252962  0.546943  0.264368  0.450757  "
      ]
     },
     "execution_count": 111,
     "metadata": {},
     "output_type": "execute_result"
    }
   ],
   "source": [
    "rolling_beta.tail()"
   ]
  },
  {
   "cell_type": "code",
   "execution_count": 114,
   "id": "9009acd5-9600-48fc-9bd5-4b3097baefdf",
   "metadata": {},
   "outputs": [],
   "source": [
    "rolling_beta.to_excel('1_year_rolling_beta.xlsx')"
   ]
  },
  {
   "cell_type": "code",
   "execution_count": null,
   "id": "846ab8b0-144d-4ee5-b039-49d24848c407",
   "metadata": {},
   "outputs": [],
   "source": []
  }
 ],
 "metadata": {
  "kernelspec": {
   "display_name": "Python 3 (ipykernel)",
   "language": "python",
   "name": "python3"
  },
  "language_info": {
   "codemirror_mode": {
    "name": "ipython",
    "version": 3
   },
   "file_extension": ".py",
   "mimetype": "text/x-python",
   "name": "python",
   "nbconvert_exporter": "python",
   "pygments_lexer": "ipython3",
   "version": "3.11.7"
  },
  "widgets": {
   "application/vnd.jupyter.widget-state+json": {
    "state": {},
    "version_major": 2,
    "version_minor": 0
   }
  }
 },
 "nbformat": 4,
 "nbformat_minor": 5
}
